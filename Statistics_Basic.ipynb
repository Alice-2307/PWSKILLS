{
  "nbformat": 4,
  "nbformat_minor": 0,
  "metadata": {
    "colab": {
      "provenance": []
    },
    "kernelspec": {
      "name": "python3",
      "display_name": "Python 3"
    },
    "language_info": {
      "name": "python"
    }
  },
  "cells": [
    {
      "cell_type": "markdown",
      "source": [
        "# Statistics Basics"
      ],
      "metadata": {
        "id": "FihP462jjoof"
      }
    },
    {
      "cell_type": "markdown",
      "source": [],
      "metadata": {
        "id": "Cw_lPKhij4Sg"
      }
    },
    {
      "cell_type": "markdown",
      "source": [
        "1. What is the difference between descriptive statistics and inferential statistics? Explain with examples\n",
        "  - Answer: Descriptive statistics focus on summarizing, organizing and presenting data in a meaningful way. It deals with the entire dataset you already have without making predictions or generalization about a larger population. Common descriptive tools include mean, median, mode, standard deviation etc.\n",
        "  Example: We have 40 students data of a particular class and average marks is 70, this describes only particular class marks.\n",
        "\n",
        "    Inferential Statistics helps to make predictions, conclusions or generalizations about a larger population based on data from a sample of that population.Common inferential techniques hypotheses testing regression analysis etc.\n",
        "    Example: we have 1000 students in college. For the survey we take 100 students out of 1000 students and use 100 student data to estimate the average marks for all 1000 students. This is inferential statistics.\n",
        "\n",
        "2. What is sampling in statistics? Explain the differences between random\n",
        "and stratified sampling.\n",
        "  - Sampling is the process of selecting a small group from a larger population to analyze and draw conclusion about the whole population. It is used because analyze the entire population is costly, time consuming and some time impractical also.\n",
        "  In Random sampling every indivdual in the population has an equal chance of being selected. This method is simple and unbaised if the sample size is large enough. EXample: Picking 100 students randomly from the entire college list using a random number generator.\n",
        "\n",
        "    In stratified sampling, the population is divided into subgroups based in specific charactersitics such as age, gender, department etc. This method ensure that all subgroups are represented in the sample. Example: Assume that college has 40% engineering student, 30% management student and 30% pharmacy stduent. we might select 40 students from engineering 30 students from management and 30 students from pharmacy to keep the proportion intact\n",
        "\n",
        "3. Define mean, median, and mode. Explain why these measures of central tendency are important.\n",
        "  - Mean: The mean or we can say average is calculated by adding all the values in a dataset and dividing the sum by the total number of values. It shows the overall belance point of the data\n",
        "  Median: The median is the middle value of a dataset when the numbers are arranged in ascending or descending order. If there is an even number of values, it is the average of the two middle values.\n",
        "  Mode: The mode is the value that appears most frequently in a dataset. A dataset may have one mode, more than one mode, or no mode if all values occur only once.\n",
        "\n",
        "    Mean, median and mode are known as measure of central tendency because they describe the center of typical value of a dataset. These measures help summarize large amounts of data into a single valye for better understanding and analysis.\n",
        "\n",
        "4. Explain skewness and kurtosis. What does a positive skew imply about the data?\n",
        "  - Skewness and kurtosis are statistical measures that describe the shape and distribution of data beyond simple measures like mean or median.\n",
        "  Skewness measure the symmetry of a data distribution. If the skewness value is 0 then the data is perfectly symmetrical. A positive skew means the right tail of the distribution is longer and a negative skew means the left tail is longer,\n",
        "  Kurtosis measures the peakedness or flatness of a data distribution compared to a normal distribution. A high kurtosis value indicates a sharper peak with more data in the tails means more extreme outliers, while a low kurtosis indicates a flatter distribution with fewer extreme values.\n",
        "  A positive skew implies that: The mean is usually greater than the median because of extreme high values. The dataset has a long tail on the right side. Most of the observations are clustered at the lower end of the scale.\n"
      ],
      "metadata": {
        "id": "qdd7fTm4j5wy"
      }
    },
    {
      "cell_type": "code",
      "execution_count": 10,
      "metadata": {
        "colab": {
          "base_uri": "https://localhost:8080/"
        },
        "id": "tmLcwr6o-Sqp",
        "outputId": "4e3f40cf-1736-4173-82af-fcdc14c419ea"
      },
      "outputs": [
        {
          "output_type": "stream",
          "name": "stdout",
          "text": [
            "Mean: 19.6\n",
            "Median: 19.0\n",
            "Mode: 12\n"
          ]
        }
      ],
      "source": [
        "# Question 5: Implement a Python program to compute the mean, median, and mode of a given list of numbers.\n",
        "# numbers = [12, 15, 12, 18, 19, 12, 20, 22, 19, 19, 24, 24, 24, 26, 28]\n",
        "\n",
        "import numpy as np\n",
        "from statistics import mode as md\n",
        "numbers = [12, 15, 12, 18, 19, 12, 20, 22, 19, 19, 24, 24, 24, 26, 28]\n",
        "\n",
        "mean = np.mean(numbers)\n",
        "median = np.median(numbers)\n",
        "mode = md(numbers)\n",
        "\n",
        "print(\"Mean:\", mean)\n",
        "print(\"Median:\", median)\n",
        "print(\"Mode:\", mode)\n"
      ]
    },
    {
      "cell_type": "code",
      "source": [
        "# Question 6: Compute the covariance and correlation coefficient between the following\n",
        "# two datasets provided as lists in Python:\n",
        "# list_x = [10, 20, 30, 40, 50]\n",
        "# list_y = [15, 25, 35, 45, 60]\n",
        "\n",
        "\n",
        "import pandas as pd\n",
        "\n",
        "list_x = [10, 20, 30, 40, 50]\n",
        "list_y = [15, 25, 35, 45, 60]\n",
        "\n",
        "df = pd.DataFrame({\n",
        "    \"X\": list_x,\n",
        "    \"Y\": list_y})\n",
        "\n",
        "\n",
        "covariance = df.cov(numeric_only= True)\n",
        "correlation = df.corr(numeric_only= True)\n",
        "\n",
        "print(covariance)\n",
        "print(correlation)\n",
        "\n"
      ],
      "metadata": {
        "colab": {
          "base_uri": "https://localhost:8080/"
        },
        "id": "SBF0FxuYsG0P",
        "outputId": "6cca6954-90d5-46af-d09a-d5883d24bb24"
      },
      "execution_count": 11,
      "outputs": [
        {
          "output_type": "stream",
          "name": "stdout",
          "text": [
            "       X      Y\n",
            "X  250.0  275.0\n",
            "Y  275.0  305.0\n",
            "          X         Y\n",
            "X  1.000000  0.995893\n",
            "Y  0.995893  1.000000\n"
          ]
        }
      ]
    },
    {
      "cell_type": "code",
      "source": [
        "# Question 6: Write a Python script to draw a boxplot for the following numeric list and identify its outliers. Explain the result:\n",
        "# data = [12, 14, 14, 15, 18, 19, 19, 21, 22, 22, 23, 23, 24, 26, 29, 35]\n",
        "\n",
        "import numpy as np\n",
        "import seaborn as sns\n",
        "\n",
        "data = [12, 14, 14, 15, 18, 19, 19, 21, 22, 22, 23, 23, 24, 26, 29, 35]\n",
        "\n",
        "Q1 = np.percentile(data, 25)\n",
        "Q3 = np.percentile(data, 75)\n",
        "\n",
        "\n",
        "iqr =  Q3 - Q1\n",
        "lower_bound = Q1 - 1.5 * iqr\n",
        "upper_bound = Q3  + 1.5 * iqr\n",
        "\n",
        "sns.boxplot(data)\n",
        "\n",
        "Outliers = [x for x in data if x < lower_bound or x > upper_bound]\n",
        "\n",
        "print(\"IQR\", iqr)\n",
        "print(\"lower_bound\", lower_bound)\n",
        "print(\"upper_bound\", lower_bound)\n",
        "print(\"Outliers\", Outliers)\n",
        "\n",
        "\n",
        "\n",
        "# Explanation\n",
        "\n",
        "# The boxplot will show most data clustered between 18–26. The value 35 will appear as a single dot above the upper marking it as an outlier.\n",
        "# The box in the plot represents the interquartile range (IQR) — the middle 50% of data.\n",
        "# The horizontal line inside the box is the median (around 21.5).\n",
        "# The whiskers extend to the smallest and largest values within the bounds.\n",
        "# Any point outside the whiskers is considered an outlier. In this dataset, 35 is unusually high compared to the rest of the data, hence identified as an outlier.\n",
        "\n",
        "\n"
      ],
      "metadata": {
        "colab": {
          "base_uri": "https://localhost:8080/",
          "height": 480
        },
        "id": "CXJWD_t_sGtj",
        "outputId": "3c1da8b3-9834-4baf-f4a6-e0cac39ea6b0"
      },
      "execution_count": 12,
      "outputs": [
        {
          "output_type": "stream",
          "name": "stdout",
          "text": [
            "IQR 6.0\n",
            "lower_bound 8.25\n",
            "upper_bound 8.25\n",
            "Outliers [35]\n"
          ]
        },
        {
          "output_type": "display_data",
          "data": {
            "text/plain": [
              "<Figure size 640x480 with 1 Axes>"
            ],
            "image/png": "[encoded data removed]"
          },
          "metadata": {}
        }
      ]
    },
    {
      "cell_type": "code",
      "source": [
        "# Question 8: You are working as a data analyst in an e-commerce company. The marketing team wants to know if there is a relationship\n",
        "#between advertising spend and daily sales.\n",
        "# Explain how you would use covariance and correlation to explore this relationship.\n",
        "# Write Python code to compute the correlation between the two lists:\n",
        "# advertising_spend = [200, 250, 300, 400, 500]\n",
        "# daily_sales = [2200, 2450, 2750, 3200, 4000]\n",
        "\n",
        "\n",
        "# Covariance measures how two variables change together.\n",
        "\n",
        "# Positive covariance means advertising spend increases, daily sales also increase\n",
        "# Negative covariance means advertising spend increases, daily sales decrease\n",
        "# However, covariance does not show the strength of the relationship because it is not standardized —\n",
        "# it depends on the units of the variables (rupees, etc.).\n",
        "\n",
        "# Correlation\n",
        "\n",
        "# Correlation shows both the direction and the strength of the relationship between two variables.\n",
        "# It is unitless and always lies between -1 and +1:\n",
        "# +1 → Perfect positive relationship means advertising spend increases, daily sales also increase\n",
        "# -1 → Perfect negative relationship means advertising spend increases, daily sales decrease\n",
        "# 0 → No linear relationship.\n",
        "# Correlation is more informative than covariance for the marketing team because it shows how strongly sales depend on advertising spend.\n",
        "\n",
        "\n",
        "import pandas as pd\n",
        "\n",
        "advertising_spend = [200, 250, 300, 400, 500]\n",
        "daily_sales = [2200, 2450, 2750, 3200, 4000]\n",
        "\n",
        "df = pd.DataFrame({\n",
        "    \"Advertising_spend\": advertising_spend,\n",
        "    \"Daily_sales\": daily_sales})\n",
        "\n",
        "correlation = df.corr(numeric_only= True)\n",
        "\n",
        "print(correlation)\n",
        "\n",
        "\n",
        "# Explanation\n",
        "# The correlation ≈ 0.99 indicates a very strong positive linear relationship higher advertising spend leads to higher daily sales.\n"
      ],
      "metadata": {
        "colab": {
          "base_uri": "https://localhost:8080/"
        },
        "id": "5D2Up4nCsGla",
        "outputId": "3f08ce6e-820a-465a-d2ac-9ff13810ee7a"
      },
      "execution_count": 13,
      "outputs": [
        {
          "output_type": "stream",
          "name": "stdout",
          "text": [
            "                   Advertising_spend  Daily_sales\n",
            "Advertising_spend           1.000000     0.993582\n",
            "Daily_sales                 0.993582     1.000000\n"
          ]
        }
      ]
    },
    {
      "cell_type": "code",
      "source": [
        "# # Question 9: Your team has collected customer satisfaction survey data on a scale of\n",
        "# 1-10 and wants to understand its distribution before launching a new product.\n",
        "# Explain which summary statistics and visualizations (e.g. mean, standard deviation, histogram) you’d use.\n",
        "# Write Python code to create a histogram using Matplotlib for the survey data:\n",
        "\n",
        "# survey_scores = [7, 8, 5, 9, 6, 7, 8, 9, 10, 4, 7, 6, 9, 8, 7]\n",
        "\n",
        "\n",
        "# To understand the distribution of customer satisfaction scores, we can use:\n",
        "# Mean: Shows the average satisfaction score, giving an overall idea of how customers feel.\n",
        "# Median: Shows the middle value, which is useful if the data is skewed or has outliers.\n",
        "# Mode: Shows the most frequently given score, helping identify the most common customer feedback.\n",
        "# Standard Deviation (SD): Shows the spread of the scores, i.e., how much individual responses deviate from the mean.\n",
        "# Histogram: Shows the frequency of scores → helps identify patterns, clusters, or gaps.\n",
        "\n",
        "import matplotlib.pyplot as plt\n",
        "\n",
        "survey_scores = [7, 8, 5, 9, 6, 7, 8, 9, 10, 4, 7, 6, 9, 8, 7]\n",
        "\n",
        "\n",
        "plt.figure(figsize=(8,5))\n",
        "plt.hist(survey_scores, bins=range(4,12), edgecolor='black', alpha=0.7)\n",
        "plt.title(\"Customer Satisfaction Survey\")\n",
        "plt.xlabel(\"Survey Score\")\n",
        "plt.ylabel(\"Frequency\")\n",
        "plt.show()\n",
        "\n"
      ],
      "metadata": {
        "colab": {
          "base_uri": "https://localhost:8080/",
          "height": 487
        },
        "id": "yWkWPU6msGM5",
        "outputId": "6514d086-b466-415c-d652-577d3c02c62a"
      },
      "execution_count": 18,
      "outputs": [
        {
          "output_type": "display_data",
          "data": {
            "text/plain": [
              "<Figure size 800x500 with 1 Axes>"
            ],
            "image/png": "[encoded data removed]"
          },
          "metadata": {}
        }
      ]
    }
  ]
}