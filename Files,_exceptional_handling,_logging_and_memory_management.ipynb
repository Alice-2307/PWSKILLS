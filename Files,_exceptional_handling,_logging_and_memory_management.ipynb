{
  "nbformat": 4,
  "nbformat_minor": 0,
  "metadata": {
    "colab": {
      "provenance": []
    },
    "kernelspec": {
      "name": "python3",
      "display_name": "Python 3"
    },
    "language_info": {
      "name": "python"
    }
  },
  "cells": [
    {
      "cell_type": "markdown",
      "source": [
        "# Files, exceptional handling, logging and memory management"
      ],
      "metadata": {
        "id": "I57vWbJwHdeT"
      }
    },
    {
      "cell_type": "markdown",
      "source": [
        "1. What is the difference between interpreted and compiled languages ?\n",
        "  - In a complied language, the entire program is translated into machine code by a compiler before execution. This creates an independent executable file that can be run without needing the compiler again. Compiled langauga run faster. Exampes C, C++, C#. In an interpreted langaueg, the code is executed line by line by an interpreter. This means no separate executable file is created instead the interpreter reads and executes the code directly. Interpreted language are slower then complied ones but easier to debug and more flexible. Exmaple: Python, JavaScript\n",
        "\n",
        "2. What is exception handling in Python ?\n",
        "  -Exception handling in pyhton is a way to deal with errors that occurwhile a program is running without stopping the entire program. If an error happens, python will stop execution and show an error message. But with exception handling, we can catch these errors and handle them, so the program continues to run.\n",
        "\n",
        "3. What is the purpose of the finally block in exception handling?\n",
        "  - The finally block in pyhton exception handling is used to define a set of statements that will always execute,not notter what happerns in the try or except block. The purpose is to ensure that important cleanup action are performed. like closing a file.\n",
        "\n",
        "4.  What is logging in Python?\n",
        "  - Looping in python is the process of recording messages, errors or important events that occur during a program execution. It allows to keep track of events that happen while a program is running. It provides a system to record messages. Instead of just printing messages.\n",
        "\n",
        "5. What is the significance of the __del__ method in Python?\n",
        "  - The __del__ method is known as the destructor method. It is automatically invoked when an object is about to be destroyed by python garbage collector, usually when there are no more references pointing to that object. The __del__ method add reliability to a program by make sure that objects free up the resources they hold when they are no longer needed.\n",
        "\n",
        "6. What is the difference between import and from ... import in Python?\n",
        "  - Both import and from ... import are used to bring external modules or specific function into a program but they differ in how they provide access. When we use import statement, the entire module is imported we want to use specific function than we use import.functionname(). On the other hand from ... import statemant allows us to import specifin itemr from a module directly into the program if we write from name import in that case we can directly use name().\n",
        "\n",
        "7. How can you handle multiple exceptions in Python?\n",
        "  - In python, multiple exception can be handled by writing more that one except block after a try block. Each except block is used to handle a specific type of error. Pyhton check each except block in sequence and execute the first. for example, one except block handle ValueError, another handle ZeroDivisionError and more\n",
        "\n",
        "8. What is the purpose of the with statement when handling files in Python?\n",
        "  - The with statement in python is used to simplify the process of working with files. It ensure tha the file is automatically closed once the file open and code is executed. This also rmeove the need of explicitly call the close() menthod after the execution of code.\n",
        "\n",
        "9. What is the difference between multithreading and multiprocessing?\n",
        "  - Multithreading means running multiple thread or smaller unit of a process within the same process. All thread share the same memory space of the process. Due to Global Interpreter Lock GIL true parallel execution of threads is limited. Threads can run concurrently. multithreading is useful for I/O taks. Multiprocessing means when multiple processor is used to execute a program. Multiprocessing creates separate processes, each with its own memory space. Multiprocessing true parallel execution is possible\n",
        "\n",
        "10. What are the advantages of using logging in a program?\n",
        "  - Logging allows a structured and professional way of tracking what happens during the execution of a program. It allows developers to classify message into levels like debug, info, warning, error and critical which makes it easier to understand the exceution or events. Loggind can also be saved to files, creating a record of issues and activities that can be reviewed later, even aftet the program has stopped running. It helps in debugging and error tracking through the recorded messages to understand what when wrong\n",
        "\n",
        "11. What is memory management in Python?\n",
        "  - Memory management in pyhton refers to the process of efficiently allocation, using and releasing memory resources while a program is running. Python has an automatic memory management system that takes care of these tasks for the programmer, which makes it easire to write program. Memory management in pythn ensures program use memory efficiently and helps prevent memory leaks, making programming more reliable.\n",
        "\n",
        "12. What are the basic steps involved in exception handling in Python?\n",
        "  - Exception handling ensure that program does not terminate abruptly and can handle errors properly.\n",
        "  first step - use try block inside the try block place the code that you want to execute or may be raise an exception.\n",
        "  second step - use except block, if an error occurs in the try block, is is directly tranfer to this except block and here you specify what action to take if a particular type of exception happens.\n",
        "\n",
        "13.  Why is memory management important in Python?\n",
        "  - Memory management in Python is important because it ensures that memory is used efficiently and safely during program execution. Python programs create many objects, variables, and data structures, and proper memory management helps allocate memory as needed and free it when it is no longer in use. This prevents memory leaks, reduces wastage of resources, and improves program performance.\n",
        "\n",
        "14. What is the role of try and except in exception handling?\n",
        "  - try block contains the code that we want to execute or may be raise an error. python execute the code inside the try block line by line. if no error occus the code run and skios to the next statement after the try block but if an erros occus python stop execution and go for except block which is handle the errors. The except block defines how to handle the specific types of errors. this prevents the program from crashing and allows you to handle the errors. you can also use multiple excdpt block to handle different error.\n",
        "\n",
        "15. How does Python's garbage collection system work?\n",
        "  - Python's garbage collection system works by automatically managing memory to remove objects that are no longer needed, helping prevent memory leaks and optimize program performance.\n",
        "\n",
        "16. What is the purpose of the else block in exception handling?\n",
        "  - The else block in exception handling is used to define a section of code that should only run if no exception occus in the try block. When try block code execute successfully without raising any error, the else block is execute immediate after it. This helps in separating the code that should only execute when everything goes well from the code that is meant for error handling. and also else block ensure that normal execution logic is kept separate from exception handling logic\n",
        "\n",
        "17. What are the common logging levels in Python?\n",
        "  - The common logging level in python indicate the importance of event. The debug level is the lowest level and provide detailed information useful for diagnosing problems. The info level reports general events or cofirmations that the program is working as expected. The warning level reports a potential issue or unexpected situation that does not stop the program but may require attention. The ERROR level indicates serious problems that have caused some part of the program to fail, requiring immediate attention. The CRITICAL level represents very severe errors or conditions that may prevent the program from continuing to run and require urgent intervention.\n",
        "\n",
        "18. What is the difference between os.fork() and multiprocessing in Python?\n",
        "  - The os.fork() function is available on unix based system and created a new child process by duplicating the current process. The child process gets a copy of the parent process memory space and both processes continue execution independently where fork() was called. On the other hand, the multiprocessing means when multiple processor is used to execute a program. Multiprocessing creates separate processes, each with its own memory space. Multiprocessing true parallel execution is possible\n",
        "\n",
        "19. What is the importance of closing a file in Python?\n",
        "  - Closing a file in pyhton is important because it ensures that all the change made to the file are properly saved. When a file is open python keeps the connection between the program and the file. which consumes memory and system resources. If the file is not closed, data may not be written properly, leading to data loss or corruption. Closing the file also makes the file available for other process to use.\n",
        "\n",
        "20. What is the difference between file.read() and file.readline() in Python?\n",
        "  - Both the method to read the date from file. The file.read() method reads the entire data of the file at once and return it as a single string. This is useful when you want to process the whole file in memory but it may not be efficient for very large files because it read everyting at once. On the other hand, the file.readline() methood reads only one line from the file each time. It is useful when you want to process a file line by line and also wna to read very large dataset.\n",
        "\n",
        "21. What is the logging module in Python used for?\n",
        "  - The logging module in python is used to tracking events that happen while a program runs. Instead of using simple print statements, the logging module provides a flexible and systematic way to record messages about the program execution. It is mainly used for debugging, error tracking and monitoring the flow of a program. It gives predefined levels to record messages like debug, info, warning, error, critical which helps in categorizing the importance of each message\n",
        "\n",
        "22. What is the os module in Python used for in file handling?\n",
        "  - The os module is used to interact with the operating system and provides a wide range of function for file handling and directory management. It allows programmers to perform operations such as creating, deleting and renaming files and directories, navigating the file system and retrieving information about files.\n",
        "\n",
        "23. What are the challenges associated with memory management in Python?\n",
        "  - The challenges associated with memory management in python include memory leaks, which occur when unused objects are not properly released and cirular references, where objects reference each other, making it harder to reclaim memory.\n",
        "\n",
        "24. How do you raise an exception manually in Python?\n",
        "  - In python you can raise an exception manually using the raise statement. You specify the type of exception you want to raise, optionally proivde a custom error message. like raise valueError(\"invalid input\") will stop program execution and signal a vaue error with the given message. You can also raise built in exception or custom exception defined by the programmer.\n",
        "\n",
        "25. Why is it important to use multithreading in certain applications?\n",
        "  - Multithreading is important in certain application because it allows a progam multiple task at the same time within a single process. Instead of execution one task after another, multithreading enables concurrent execution, which improves performace and efficiency in specific scenarios.  By using multithreading program can achieve better resources utilization and faster execution for task that can run independently.  \n"
      ],
      "metadata": {
        "id": "zvwNqu5mLZ_H"
      }
    },
    {
      "cell_type": "markdown",
      "source": [
        "# Practical Question"
      ],
      "metadata": {
        "id": "nSE4a1o-M_Gb"
      }
    },
    {
      "cell_type": "code",
      "source": [
        "# 1. How can you open a file for writing in Python and write a string to it?\n",
        "\n",
        "file = open(\"testing.txt\", \"w\")\n",
        "\n",
        "file.write(\"Hello World1\\n\")\n",
        "file.write(\"Hello World2\\n\")\n",
        "file.write(\"Hello World3\\n\")\n",
        "file.write(\"Hello World4\\n\")\n",
        "file.write(\"Hello World5\\n\")\n",
        "\n",
        "file.close()\n",
        "print(\"Done\")\n",
        "\n"
      ],
      "metadata": {
        "id": "mgJAjsH2M8cM",
        "colab": {
          "base_uri": "https://localhost:8080/"
        },
        "outputId": "9318a83f-4c02-42ea-84af-635949ca691d"
      },
      "execution_count": 149,
      "outputs": [
        {
          "output_type": "stream",
          "name": "stdout",
          "text": [
            "Done\n"
          ]
        }
      ]
    },
    {
      "cell_type": "code",
      "source": [
        "# 2. Write a Python program to read the contents of a file and print each line.\n",
        "\n",
        "read_file = open(\"testing.txt\", \"r\")\n",
        "\n",
        "\n",
        "for i in read_file:\n",
        "    print(i)\n",
        "\n"
      ],
      "metadata": {
        "colab": {
          "base_uri": "https://localhost:8080/"
        },
        "id": "HE2UW4nFNCIi",
        "outputId": "49365e2e-1183-4ace-9894-2c63ec840824"
      },
      "execution_count": 150,
      "outputs": [
        {
          "output_type": "stream",
          "name": "stdout",
          "text": [
            "Hello World1\n",
            "\n",
            "Hello World2\n",
            "\n",
            "Hello World3\n",
            "\n",
            "Hello World4\n",
            "\n",
            "Hello World5\n",
            "\n"
          ]
        }
      ]
    },
    {
      "cell_type": "code",
      "source": [
        "# 3. How would you handle a case where the file doesn't exist while trying to open it for reading?\n",
        "\n",
        "\n",
        "try:\n",
        "    file = open(\"testing1.txt\", \"r\")\n",
        "    print(file.read())\n",
        "    file.close()\n",
        "\n",
        "except Exception as e:\n",
        "    print(\"Error: File not found! Please check the file name.\",e)\n"
      ],
      "metadata": {
        "id": "obn8UyW-NMMU",
        "colab": {
          "base_uri": "https://localhost:8080/"
        },
        "outputId": "51a78130-c910-4bb2-c52c-86e448c7c21d"
      },
      "execution_count": 151,
      "outputs": [
        {
          "output_type": "stream",
          "name": "stdout",
          "text": [
            "Error: File not found! Please check the file name. [Errno 2] No such file or directory: 'testing1.txt'\n"
          ]
        }
      ]
    },
    {
      "cell_type": "code",
      "source": [
        "# 4. Write a Python script that reads from one file and writes its content to another file.\n",
        "\n",
        "\n",
        "file1 = open(\"testing.txt\", \"r\")\n",
        "\n",
        "another_file = open(\"anotherfile.txt\", \"w\")\n",
        "\n",
        "for i in file1:\n",
        "    another_file.write(i)\n",
        "\n",
        "another_file.close()\n",
        "\n",
        "print(\"File successfully!\")\n",
        "\n",
        "with open(\"anotherfile.txt\", \"r\") as file2:\n",
        "    print(file2.read())\n"
      ],
      "metadata": {
        "id": "waY4l0axNMJJ",
        "colab": {
          "base_uri": "https://localhost:8080/"
        },
        "outputId": "d131a909-8cd6-4d2c-ac0a-549128a0730c"
      },
      "execution_count": 152,
      "outputs": [
        {
          "output_type": "stream",
          "name": "stdout",
          "text": [
            "File successfully!\n",
            "Hello World1\n",
            "Hello World2\n",
            "Hello World3\n",
            "Hello World4\n",
            "Hello World5\n",
            "\n"
          ]
        }
      ]
    },
    {
      "cell_type": "code",
      "source": [
        "# 5. How would you catch and handle division by zero error in Python.\n",
        "\n",
        "try:\n",
        "  a = 23/0\n",
        "  print(a)\n",
        "\n",
        "except ZeroDivisionError as e:\n",
        "  print(\"Error: Division is not possible\",e)\n"
      ],
      "metadata": {
        "id": "FqJ8BvZINMFv",
        "colab": {
          "base_uri": "https://localhost:8080/"
        },
        "outputId": "d6ca2929-2f59-43d0-9661-e406c37e3341"
      },
      "execution_count": 153,
      "outputs": [
        {
          "output_type": "stream",
          "name": "stdout",
          "text": [
            "Error: Division is not possible division by zero\n"
          ]
        }
      ]
    },
    {
      "cell_type": "code",
      "source": [
        "# 6. Write a Python program that logs an error message to a log file when a division by zero exception occurs.\n",
        "\n",
        "import logging\n",
        "\n",
        "\n",
        "logging.basicConfig(filename=\"errors.log\", level=logging.ERROR)\n",
        "\n",
        "try:\n",
        "    result = 10 / 0\n",
        "    print(\"Result:\", result)\n",
        "\n",
        "except ZeroDivisionError:\n",
        "    logging.error(\"Division by zero error occurred!\")\n",
        "\n",
        "print(\"Done\")\n"
      ],
      "metadata": {
        "id": "Nxh90_mNNL_o",
        "colab": {
          "base_uri": "https://localhost:8080/"
        },
        "outputId": "e8df6587-3444-46f9-fd05-299416a6690a"
      },
      "execution_count": 154,
      "outputs": [
        {
          "output_type": "stream",
          "name": "stdout",
          "text": [
            "Done\n"
          ]
        }
      ]
    },
    {
      "cell_type": "code",
      "source": [
        "# 7. How do you log information at different levels (INFO, ERROR, WARNING) in Python using the logging module.\n",
        "\n",
        "import logging\n",
        "\n",
        "for handler in logging.root.handlers[:]:\n",
        "    logging.root.removeHandler(handler)\n",
        "\n",
        "logging.basicConfig(filename = \"test_new1.log\", level = logging.DEBUG, format = '%(asctime)s %(levelname)s %(message)s')\n",
        "\n",
        "logging.debug(\"This msg is for debugging\")\n",
        "logging.info(\"This is my info msg\")\n",
        "logging.warning(\"This is my warning msg\")\n",
        "logging.shutdown()\n",
        "\n",
        "print(\"File Succesfully created\")\n",
        "\n",
        "with open(\"test_new1.log\", \"r\") as file:\n",
        "    print(file.read())\n"
      ],
      "metadata": {
        "id": "dhvptvKVNL9D",
        "colab": {
          "base_uri": "https://localhost:8080/"
        },
        "outputId": "dae1cd23-d0e1-420a-844d-59cf67ccc923"
      },
      "execution_count": 155,
      "outputs": [
        {
          "output_type": "stream",
          "name": "stdout",
          "text": [
            "File Succesfully created\n",
            "2025-09-10 19:34:16,925 DEBUG This msg is for debugging\n",
            "2025-09-10 19:34:16,925 INFO This is my info msg\n",
            "2025-09-10 19:34:16,925 WARNING This is my warning msg\n",
            "\n"
          ]
        }
      ]
    },
    {
      "cell_type": "code",
      "source": [
        "# 8. Write a program to handle a file opening error using exception handling.\n",
        "\n",
        "try:\n",
        "    file = open(\"data.txt\", \"r\")\n",
        "    print(file.read())\n",
        "\n",
        "except FileNotFoundError as e:\n",
        "    print(\"Error: The file does not exist\",e)\n"
      ],
      "metadata": {
        "id": "uh15aWrmNL6v",
        "colab": {
          "base_uri": "https://localhost:8080/"
        },
        "outputId": "e6b4f349-bf43-4761-bcac-84b8996ef3fb"
      },
      "execution_count": 156,
      "outputs": [
        {
          "output_type": "stream",
          "name": "stdout",
          "text": [
            "Error: The file does not exist [Errno 2] No such file or directory: 'data.txt'\n"
          ]
        }
      ]
    },
    {
      "cell_type": "code",
      "source": [
        "# 9. How can you read a file line by line and store its content in a list in Python?\n",
        "\n",
        "file = open(\"testing.txt\", \"r\")\n",
        "\n",
        "list1 = file.readlines()\n",
        "\n",
        "print(list1)\n"
      ],
      "metadata": {
        "id": "ekaSkcO5NL4v",
        "colab": {
          "base_uri": "https://localhost:8080/"
        },
        "outputId": "a3181605-c402-4297-f2ad-b502cfb00ddd"
      },
      "execution_count": 157,
      "outputs": [
        {
          "output_type": "stream",
          "name": "stdout",
          "text": [
            "['Hello World1\\n', 'Hello World2\\n', 'Hello World3\\n', 'Hello World4\\n', 'Hello World5\\n']\n"
          ]
        }
      ]
    },
    {
      "cell_type": "code",
      "source": [
        "# 10. How can you append data to an existing file in Python?\n",
        "\n",
        "with open(\"testing.txt\", \"a\") as file:\n",
        "  file.write(\"Hello World 7!\\n\")\n",
        "\n",
        "\n",
        "file1 = open(\"testing.txt\", \"r\")\n",
        "print(file1.read())\n"
      ],
      "metadata": {
        "id": "NZvV24z9NL2S",
        "colab": {
          "base_uri": "https://localhost:8080/"
        },
        "outputId": "8e43c3b4-1072-465a-a405-b4c78f8ef25d"
      },
      "execution_count": 158,
      "outputs": [
        {
          "output_type": "stream",
          "name": "stdout",
          "text": [
            "Hello World1\n",
            "Hello World2\n",
            "Hello World3\n",
            "Hello World4\n",
            "Hello World5\n",
            "Hello World 7!\n",
            "\n"
          ]
        }
      ]
    },
    {
      "cell_type": "code",
      "source": [
        "# 11. Write a Python program that uses a try-except block to handle an error when attempting to access a dictionary key that doesn't exist.\n",
        "\n",
        "\n",
        "try:\n",
        "    my_dict = {\"name\": \"Alice\", \"age\": 25}\n",
        "\n",
        "    print(\"City:\", my_dict[\"city\"])\n",
        "\n",
        "except KeyError as k:\n",
        "    print(\"The key does not exist in the dictionary.\",k)\n"
      ],
      "metadata": {
        "id": "sjUbfSn8NLyG",
        "colab": {
          "base_uri": "https://localhost:8080/"
        },
        "outputId": "b496921c-26fb-4457-abd9-ffd725d75721"
      },
      "execution_count": 159,
      "outputs": [
        {
          "output_type": "stream",
          "name": "stdout",
          "text": [
            "The key does not exist in the dictionary. 'city'\n"
          ]
        }
      ]
    },
    {
      "cell_type": "code",
      "source": [
        "0# 12. Write a program that demonstrates using multiple except blocks to handle different types of exceptions.\n",
        "\n",
        "\n",
        "try:\n",
        "    num1 = int(input(\"Enter first number: \"))\n",
        "    num2 = int(input(\"Enter second number: \"))\n",
        "    result = num1 / num2\n",
        "    print(\"Result:\", result)\n",
        "\n",
        "except ValueError as v:\n",
        "    print(\"Please enter only numbers.\",v)\n",
        "\n",
        "except ZeroDivisionError as z:\n",
        "    print(\"Division by zero is not allowed.\",z)\n",
        "\n",
        "except Exception as e:\n",
        "    print(\"An unexpected error occurred:\", e)\n",
        "\n"
      ],
      "metadata": {
        "id": "ZJfHTl-SNLvJ",
        "colab": {
          "base_uri": "https://localhost:8080/"
        },
        "outputId": "7ee95de5-f1aa-44a4-e294-2b93e7a4b330"
      },
      "execution_count": 160,
      "outputs": [
        {
          "output_type": "stream",
          "name": "stdout",
          "text": [
            "Enter first number: 45\n",
            "Enter second number: \n",
            "Please enter only numbers. invalid literal for int() with base 10: ''\n"
          ]
        }
      ]
    },
    {
      "cell_type": "code",
      "source": [
        "# 13. How would you check if a file exists before attempting to read it in Python.\n",
        "\n",
        "import os\n",
        "\n",
        "\n",
        "if os.path.exists(\"example.txt\"):\n",
        "    with open(\"exapmle.txt\", \"r\") as file:\n",
        "\n",
        "        print(file.read())\n",
        "else:\n",
        "    print(\"Error: The file does not exist.\")\n"
      ],
      "metadata": {
        "id": "1mf_yhc_NLsu",
        "colab": {
          "base_uri": "https://localhost:8080/"
        },
        "outputId": "760f6d4a-1ed5-46c4-dc6c-244a91023061"
      },
      "execution_count": 162,
      "outputs": [
        {
          "output_type": "stream",
          "name": "stdout",
          "text": [
            "Error: The file does not exist.\n"
          ]
        }
      ]
    },
    {
      "cell_type": "code",
      "source": [
        "# 14. Write a program that uses the logging module to log both informational and error messages.\n",
        "\n",
        "import logging\n",
        "\n",
        "for handler in logging.root.handlers[:]:\n",
        "    logging.root.removeHandler(handler)\n",
        "\n",
        "logging.basicConfig(filename = \"app_11.log\", level = logging.DEBUG, format = '%(asctime)s %(levelname)s %(message)s')\n",
        "\n",
        "\n",
        "logging.info(\"This is an informational message.\")\n",
        "logging.error(\"This is an error message.\")\n",
        "logging.warning(\"This is a warning message.\")\n",
        "logging.shutdown()\n",
        "\n",
        "print(\"Done\")\n",
        "\n",
        "with open(\"app_11.log\", \"r\") as file:\n",
        "    print(file.read())\n"
      ],
      "metadata": {
        "id": "Idql2gtCNLp3",
        "colab": {
          "base_uri": "https://localhost:8080/"
        },
        "outputId": "1d19e3b8-0c5f-4b8a-ecc4-7a47331cb86b"
      },
      "execution_count": 163,
      "outputs": [
        {
          "output_type": "stream",
          "name": "stdout",
          "text": [
            "Done\n",
            "2025-09-10 19:35:36,394 INFO This is an informational message.\n",
            "2025-09-10 19:35:36,395 ERROR This is an error message.\n",
            "2025-09-10 19:35:36,395 WARNING This is a warning message.\n",
            "\n"
          ]
        }
      ]
    },
    {
      "cell_type": "code",
      "source": [
        "# 15. Write a Python program that prints the content of a file and handles the case when the file is empty.\n",
        "\n",
        "try:\n",
        "    with open(\"example.txt\", \"r\") as file:\n",
        "\n",
        "        if file.read():\n",
        "            print(file.read())\n",
        "        else:\n",
        "            print(\"The file is empty.\")\n",
        "except FileNotFoundError as f:\n",
        "    print(\"File not found.\", f)\n"
      ],
      "metadata": {
        "id": "HADSbkPCNLnH",
        "colab": {
          "base_uri": "https://localhost:8080/"
        },
        "outputId": "77cb6efc-ce5f-4e4c-e2bd-57309f71e123"
      },
      "execution_count": 165,
      "outputs": [
        {
          "output_type": "stream",
          "name": "stdout",
          "text": [
            "File not found. [Errno 2] No such file or directory: 'example.txt'\n"
          ]
        }
      ]
    },
    {
      "cell_type": "code",
      "source": [
        "# 16. Demonstrate how to use memory profiling to check the memory usage of a small program.\n",
        "\n",
        "# !pip install memory-profiler\n",
        "\n",
        "from memory_profiler import memory_usage\n",
        "\n",
        "def my_function():\n",
        "    data = [i for i in range(100000)]\n",
        "    total = sum(data)\n",
        "    print(\"Total:\", total)\n",
        "\n",
        "mem_usage = memory_usage(my_function)\n",
        "print(\"Memory usage (in MB):\", mem_usage)\n",
        "\n"
      ],
      "metadata": {
        "id": "3AtGbIA0NLj4",
        "colab": {
          "base_uri": "https://localhost:8080/"
        },
        "outputId": "b8e0b805-c351-45a8-b243-2d54078e783a"
      },
      "execution_count": 166,
      "outputs": [
        {
          "output_type": "stream",
          "name": "stdout",
          "text": [
            "Total: 4999950000\n",
            "Total: 4999950000\n",
            "Total: 4999950000\n",
            "Memory usage (in MB): [185.9140625, 185.9140625, 185.9140625, 185.9140625, 185.9140625, 185.9140625, 185.9140625, 185.9140625, 185.9140625, 185.9140625, 185.9140625, 185.9140625]\n"
          ]
        }
      ]
    },
    {
      "cell_type": "code",
      "source": [
        "# 17. Write a Python program to create and write a list of numbers to a file, one number per line.\n",
        "\n",
        "\n",
        "numbers = [10, 20, 30, 40, 50]\n",
        "\n",
        "with open(\"number.txt\", \"w\") as file:\n",
        "    for num in numbers:\n",
        "        file.write(f\"{num} \\n\")\n",
        "\n",
        "with open(\"number.txt\", \"r\") as file:\n",
        "    print(file.read())\n",
        "\n"
      ],
      "metadata": {
        "id": "4ZdtIcKjNLaU",
        "colab": {
          "base_uri": "https://localhost:8080/"
        },
        "outputId": "d94c0db8-96ba-4d07-9a1d-e5649b93b9e8"
      },
      "execution_count": 167,
      "outputs": [
        {
          "output_type": "stream",
          "name": "stdout",
          "text": [
            "10 \n",
            "20 \n",
            "30 \n",
            "40 \n",
            "50 \n",
            "\n"
          ]
        }
      ]
    },
    {
      "cell_type": "code",
      "source": [
        "# 18. How would you implement a basic logging setup that logs to a file with rotation after 1MB?\n",
        "\n",
        "\n",
        "import logging\n",
        "from logging.handlers import RotatingFileHandler\n",
        "\n",
        "for handler in logging.root.handlers[:]:\n",
        "    logging.root.removeHandler(handler)\n",
        "\n",
        "\n",
        "log_handler = RotatingFileHandler(\"app.log\", maxBytes=1_000_000, backupCount=3)\n",
        "\n",
        "\n",
        "logging.basicConfig(level=logging.INFO, format=\"%(asctime)s - %(levelname)s - %(message)s\", handlers=[log_handler])\n",
        "\n",
        "\n",
        "for i in range(10000):\n",
        "    logging.info(f\"Logging message number {i}\")\n",
        "\n",
        "\n",
        "print(\"Done\")"
      ],
      "metadata": {
        "id": "nCnge9-YOE6G",
        "colab": {
          "base_uri": "https://localhost:8080/"
        },
        "outputId": "a904082e-5e5f-4e98-93d5-d54dc2567ff1"
      },
      "execution_count": 173,
      "outputs": [
        {
          "output_type": "stream",
          "name": "stdout",
          "text": [
            "Done\n"
          ]
        }
      ]
    },
    {
      "cell_type": "code",
      "source": [
        "# 19. Write a program that handles both IndexError and KeyError using a try-except block.\n",
        "\n",
        "\n",
        "try:\n",
        "    my_list = [1, 2, 3]\n",
        "    my_dict = {\"name\": \"Alice\", \"age\": 25}\n",
        "    print(my_list[5])\n",
        "    print(my_dict[\"city\"])\n",
        "\n",
        "except IndexError as i:\n",
        "    print(\"List index out of range.\",i)\n",
        "\n",
        "except KeyError as k:\n",
        "    print(\"Error: Dictionary key does not exist.\",k)\n"
      ],
      "metadata": {
        "id": "YHIYJx0FOEsO",
        "colab": {
          "base_uri": "https://localhost:8080/"
        },
        "outputId": "7fe10301-c884-4bb2-f8b8-2ec22dab670e"
      },
      "execution_count": 174,
      "outputs": [
        {
          "output_type": "stream",
          "name": "stdout",
          "text": [
            "List index out of range. list index out of range\n"
          ]
        }
      ]
    },
    {
      "cell_type": "code",
      "source": [
        "# 20. How would you open a file and read its contents using a context manager in Python?\n",
        "\n",
        "\n",
        "try:\n",
        "    with open(\"example.txt\", \"r\") as file:\n",
        "        print(file.read())\n",
        "except FileNotFoundError:\n",
        "    print(\"Error: File not found.\")\n"
      ],
      "metadata": {
        "id": "8dkavOWOOEia",
        "colab": {
          "base_uri": "https://localhost:8080/"
        },
        "outputId": "f36bf957-45c2-475d-a31f-d4b1f41a15f1"
      },
      "execution_count": 176,
      "outputs": [
        {
          "output_type": "stream",
          "name": "stdout",
          "text": [
            "Error: File not found.\n"
          ]
        }
      ]
    },
    {
      "cell_type": "code",
      "source": [
        "# 21. Write a Python program that reads a file and prints the number of occurrences of a specific word.\n",
        "\n",
        "\n",
        "try:\n",
        "    with open(\"testing.txt\", \"r\") as file:\n",
        "        count = file.read().count(\"Hello\")\n",
        "        print(f\"The word Hello occurs {count} times in the file.\")\n",
        "\n",
        "except FileNotFoundError as f:\n",
        "    print(\"File not found.\", f)\n",
        "\n"
      ],
      "metadata": {
        "id": "a7DhGB_eOEZN",
        "colab": {
          "base_uri": "https://localhost:8080/"
        },
        "outputId": "804628b8-f40b-44b1-d7bc-634c20ecdee8"
      },
      "execution_count": 179,
      "outputs": [
        {
          "output_type": "stream",
          "name": "stdout",
          "text": [
            "The word Hello occurs 6 times in the file.\n"
          ]
        }
      ]
    },
    {
      "cell_type": "code",
      "source": [
        "# 22. How can you check if a file is empty before attempting to read its contents?\n",
        "\n",
        "import os\n",
        "\n",
        "try:\n",
        "    if os.path.getsize(\"testing.txt\") == 0:\n",
        "        print(\"The file is empty.\")\n",
        "    else:\n",
        "        with open(\"testing.txt\", \"r\") as file:\n",
        "            print(file.read())\n",
        "\n",
        "except FileNotFoundError:\n",
        "    print(\"File not found.\")\n"
      ],
      "metadata": {
        "id": "mhsfY5xFOEOy",
        "colab": {
          "base_uri": "https://localhost:8080/"
        },
        "outputId": "cc504f3b-ce35-4fc4-c4cf-4c9049f46420"
      },
      "execution_count": 180,
      "outputs": [
        {
          "output_type": "stream",
          "name": "stdout",
          "text": [
            "Hello World1\n",
            "Hello World2\n",
            "Hello World3\n",
            "Hello World4\n",
            "Hello World5\n",
            "Hello World 7!\n",
            "\n"
          ]
        }
      ]
    },
    {
      "cell_type": "code",
      "source": [
        "# 23. Write a Python program that writes to a log file when an error occurs during file handling.\n",
        "\n",
        "\n",
        "import logging\n",
        "\n",
        "for handler in logging.root.handlers[:]:\n",
        "    logging.root.removeHandler(handler)\n",
        "\n",
        "\n",
        "logging.basicConfig(filename=\"app__12.log\", level=logging.ERROR, format=\"%(asctime)s - %(levelname)s - %(message)s\")\n",
        "\n",
        "try:\n",
        "    with open(\"example.txt\", \"r\") as file:\n",
        "        print(file.read())\n",
        "\n",
        "except FileNotFoundError as e:\n",
        "    logging.error(f\"File not found: {e}\")\n",
        "    print(\"File not found\")\n",
        "\n",
        "except PermissionError as e:\n",
        "    logging.error(f\"Permission denied: {e}\")\n",
        "    print(\"Permission denied\")\n",
        "\n"
      ],
      "metadata": {
        "id": "P1fLg_kjOEHh",
        "colab": {
          "base_uri": "https://localhost:8080/"
        },
        "outputId": "0b028f54-d785-4b1f-e342-5f961acadb65"
      },
      "execution_count": 182,
      "outputs": [
        {
          "output_type": "stream",
          "name": "stdout",
          "text": [
            "File not found\n"
          ]
        }
      ]
    }
  ]
}