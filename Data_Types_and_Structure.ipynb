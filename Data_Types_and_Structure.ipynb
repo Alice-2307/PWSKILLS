{
  "nbformat": 4,
  "nbformat_minor": 0,
  "metadata": {
    "colab": {
      "provenance": []
    },
    "kernelspec": {
      "name": "python3",
      "display_name": "Python 3"
    },
    "language_info": {
      "name": "python"
    }
  },
  "cells": [
    {
      "cell_type": "code",
      "execution_count": null,
      "metadata": {
        "id": "VZ0QzE3rZF3M"
      },
      "outputs": [],
      "source": []
    },
    {
      "cell_type": "markdown",
      "source": [
        "# Data Types and Structure Questions"
      ],
      "metadata": {
        "id": "s7kczkvdawQy"
      }
    },
    {
      "cell_type": "markdown",
      "source": [
        "1. What are data structures, and why are they important.\n",
        "  - Data structures are ways to organize and store data so that it can be used efficiently. They act like containers that hold data in a specific format. They are important because the right data structure makes programs faster, easier to manage, and more memory-efficient. It helps in tasks like searching, sorting, adding, and removing data.\n",
        "\n",
        "2. Explain the difference between mutable and immutable data types with examples.\n",
        "  - Mutable data types are those whose value can be changed after they are created like list, sets etc.\n",
        "  In list you can easily add the value with the help of append, update the value and also remove the value because list is mutable\n",
        "  Immutable data types are those whose value can not be changed after they are created like tuple, string etc.\n",
        "  In tuple you can not change or update the value because tuple is immutable.\n",
        "\n",
        "3. What are the main differences between lists and tuples in Python?\n",
        "  - Both lists and tuple are used to store collection of data. But lists are mutable means the value can be changed, added and removed after the list is created. While tuples are immutable means value can not be changed after tuple is created. lists are slower in comparison of tuples.\n",
        "\n",
        "4. Describe how dictionaries store data?\n",
        "  - Dictionaries stores data as key-value pairs. Each key is unique and acts like an index.\n",
        "\n",
        "5. Why might you use a set instead of a list in Python?\n",
        "  - When you need to store unique elements and do not care about the sequence or order that times you use set instead of list because set automatically remove the duplicate items.\n",
        "\n",
        "6. What is a string in Python, and how is it different from a list?\n",
        "  - String is a sequence of character and enclosed in single or double quotes. String is immutable means you can not change after created. List is a sequence or collections of elemetns which can be any type. List is mutable means you can changed the value after created\n",
        "\n",
        "7. How do tuples ensure data integrity in Python?\n",
        "  - Tuples are immutable means once you created tuples their element cannot be changed, removed and added. This immutablity shows that the stored data remains fixed and secure.\n",
        "\n",
        "8. What is a hash table, and how does it relate to dictionaries in Python?\n",
        "  - A hash table is a data structure that stores data in key-value pairs using hashing function to quickly map keys to their location. A dictionary is implemented using a hash table. when you access a value with a key, python computes the hash of the key and directly finds the location of the value. Making search, remove  and access very fast\n",
        "\n",
        "9. Can lists contain different data types in Python?\n",
        "  - Yes, list can contains different data types at the same time like interger, string, float etc\n",
        "\n",
        "10. Explain why strings are immutable in Python?\n",
        "  - String are immutable in python because once string is created, you can not be modified or changed. If you want to modification, python creates a new string instead of changing the original. This ensures security and consistency.\n",
        "\n",
        "11. What advantages do dictionaries offer over lists for certain tasks?\n",
        "  - Dictionaries provide advanathe over list when you need to quicky find, add or update tha data using a unique key. List allows fast searching and make data more organized, while list require searching through all elements which is slower.\n",
        "\n",
        "12. Describe a scenario where using a tuple would be preferable over a list?\n",
        "  - A tuple is preferable when you want to store fixed data that you do not want to change or modify in future. Tuple protect the date from being changed or modified.\n",
        "\n",
        "13. How do sets handle duplicate values in Python?\n",
        "  - To handle duplicate value we use sets. Sets automatically remove duplicated value and only give you unique value.\n",
        "\n",
        "14. How does the “in” keyword work differently for lists and dictionaries?\n",
        "  - In a list \"in\" keyword checks a value exist or not. In a dictionary \"in\" keyword checks a key exists or not.  \n",
        "\n",
        "15. Can you modify the elements of a tuple? Explain why or why not?\n",
        "  - No, you cannot modify elements of a tuple because tuples is immutable. Once tuple is created you cannot change, add or remove the value.\n",
        "\n",
        "16. What is a nested dictionary, and give an example of its use case?\n",
        "  - A nested dictionary is a dictionary where values themselves are dictionaries. It is usedul for storing structured date like employees details, students details etc.\n",
        "  Examples:\n",
        "  employees = { \"EMP01\": {\"Name\": \"AA\", \"age\": 24, \"department\": \"IT\"}}\n",
        "\n",
        "17. Describe the time complexity of accessing elements in a dictionary?\n",
        "  - Accessing elements in a dictionary is O(1) constant time because it used hashing to directly map keys to their values.\n",
        "\n",
        "18. In what situations are lists preferred over dictionaries?\n",
        "  - Lists are preferred when the order of elements matters, when data is accessed by index, when duplicated value need to be stored and also you do not need key-value pairs.\n",
        "\n",
        "19. Why are dictionaries considered unordered, and how does that affect data retrieval?\n",
        "  - Dictionaries are considered unordered because elements are store based on their hash value. Dictionaries are not stored in the sequence you add item. This means you can not retrieve data by indexing. Data is always retrived by key.\n",
        "\n",
        "20. Explain the difference between a list and a dictionary in terms of data retrieval.\n",
        "  -  In a lost data is retrieved using an index because data stored in the sequence. In a dictionary data is retrieved using a key, key basically directly points to its value because dictionart stored the value in key-value pair."
      ],
      "metadata": {
        "id": "I2zSrhXd-cRz"
      }
    },
    {
      "cell_type": "code",
      "source": [
        "# 1. Write a code to create a string with your name and print it.\n",
        "\n",
        "name = \"Aditya Sharma\"\n",
        "print(name)"
      ],
      "metadata": {
        "colab": {
          "base_uri": "https://localhost:8080/"
        },
        "id": "PqqHC96OYWIt",
        "outputId": "3980da33-7787-459c-8b65-c35a9ca507ed"
      },
      "execution_count": 1,
      "outputs": [
        {
          "output_type": "stream",
          "name": "stdout",
          "text": [
            "Aditya Sharma\n"
          ]
        }
      ]
    },
    {
      "cell_type": "code",
      "source": [
        "# 2. Write a code to find the length of the string \"Hello World\".\n",
        "\n",
        "str1 = \"Hello World\"\n",
        "print(len(str1))"
      ],
      "metadata": {
        "colab": {
          "base_uri": "https://localhost:8080/"
        },
        "id": "HdFjBsEbYiRo",
        "outputId": "c8b21f9b-66d5-4bf1-e3b9-3615cfbf78f8"
      },
      "execution_count": 2,
      "outputs": [
        {
          "output_type": "stream",
          "name": "stdout",
          "text": [
            "11\n"
          ]
        }
      ]
    },
    {
      "cell_type": "code",
      "source": [
        "# 3.  Write a code to slice the first 3 characters from the string \"Python Programming\".\n",
        "\n",
        "str2 = \"Python Programming\"\n",
        "print(str2[0:3])"
      ],
      "metadata": {
        "colab": {
          "base_uri": "https://localhost:8080/"
        },
        "id": "WZofJR99Y1LT",
        "outputId": "cef25357-688f-4082-c726-b0feaf830789"
      },
      "execution_count": 1,
      "outputs": [
        {
          "output_type": "stream",
          "name": "stdout",
          "text": [
            "Pyt\n"
          ]
        }
      ]
    },
    {
      "cell_type": "code",
      "source": [
        "# 4. Write a code to convert the string \"hello\" to uppercase\n",
        "\n",
        "str3 = \"hello\"\n",
        "print(str3.upper())"
      ],
      "metadata": {
        "colab": {
          "base_uri": "https://localhost:8080/"
        },
        "id": "fDoj5-ywZAtz",
        "outputId": "bbb59c63-0ba1-4b5e-b4ec-fd0625007089"
      },
      "execution_count": 3,
      "outputs": [
        {
          "output_type": "stream",
          "name": "stdout",
          "text": [
            "HELLO\n"
          ]
        }
      ]
    },
    {
      "cell_type": "code",
      "source": [
        "# 5. Write a code to replace the word \"apple\" with \"orange\" in the string \"I like apple\".\n",
        "\n",
        "str4 = \" I like apple\"\n",
        "str4 = str4.replace(\"apple\",\"orange\")\n",
        "print(str4)"
      ],
      "metadata": {
        "colab": {
          "base_uri": "https://localhost:8080/"
        },
        "id": "EfzFSZYHZDSM",
        "outputId": "89fa74c5-b18a-46a3-d1c1-8a0071c97b26"
      },
      "execution_count": 7,
      "outputs": [
        {
          "output_type": "stream",
          "name": "stdout",
          "text": [
            " I like orange\n"
          ]
        }
      ]
    },
    {
      "cell_type": "code",
      "source": [
        "# 6. Write a code to create a list with numbers 1 to 5 and print it.\n",
        "\n",
        "list1 = [1,2,3,4,5]\n",
        "\n",
        "print(list1)"
      ],
      "metadata": {
        "colab": {
          "base_uri": "https://localhost:8080/"
        },
        "id": "TMgPNg2fcUYy",
        "outputId": "fb0f144c-215d-4e93-8538-608c808690d9"
      },
      "execution_count": 8,
      "outputs": [
        {
          "output_type": "stream",
          "name": "stdout",
          "text": [
            "[1, 2, 3, 4, 5]\n"
          ]
        }
      ]
    },
    {
      "cell_type": "code",
      "source": [
        "# 7. Write a code to append the number 10 to the list [1, 2, 3, 4]\n",
        "\n",
        "list2 = [1,2,3,4]\n",
        "\n",
        "list2.append(10)\n",
        "print(list2)"
      ],
      "metadata": {
        "colab": {
          "base_uri": "https://localhost:8080/"
        },
        "id": "Eutrp-7NeE8o",
        "outputId": "644fa567-e93e-4bed-b0a1-b09e3936b6a9"
      },
      "execution_count": 9,
      "outputs": [
        {
          "output_type": "stream",
          "name": "stdout",
          "text": [
            "[1, 2, 3, 4, 10]\n"
          ]
        }
      ]
    },
    {
      "cell_type": "code",
      "source": [
        "# 8. Write a code to remove the number 3 from the list [1, 2, 3, 4, 5]\n",
        "\n",
        "list3 = [1,2,3,4,5]\n",
        "\n",
        "list3.remove(3)\n",
        "\n",
        "print(list3)"
      ],
      "metadata": {
        "colab": {
          "base_uri": "https://localhost:8080/"
        },
        "id": "um3H_EcbeNgG",
        "outputId": "307919af-3645-48a8-dd69-8f7e36050af7"
      },
      "execution_count": 10,
      "outputs": [
        {
          "output_type": "stream",
          "name": "stdout",
          "text": [
            "[1, 2, 4, 5]\n"
          ]
        }
      ]
    },
    {
      "cell_type": "code",
      "source": [
        "# 9. Write a code to access the second element in the list ['a', 'b', 'c', 'd']\n",
        "\n",
        "list4 = ['a','b','c','d']\n",
        "print(list4[1])"
      ],
      "metadata": {
        "colab": {
          "base_uri": "https://localhost:8080/"
        },
        "id": "YrG9FMGperv-",
        "outputId": "bcece8e9-64ac-4b96-e5e5-4fbefba7e8d4"
      },
      "execution_count": 11,
      "outputs": [
        {
          "output_type": "stream",
          "name": "stdout",
          "text": [
            "b\n"
          ]
        }
      ]
    },
    {
      "cell_type": "code",
      "source": [
        "# 10. Write a code to reverse the list [10, 20, 30, 40, 50].\n",
        "\n",
        "list5 = [10, 20, 30, 40, 50]\n",
        "\n",
        "print(list5[::-1])\n"
      ],
      "metadata": {
        "colab": {
          "base_uri": "https://localhost:8080/"
        },
        "id": "xCT8Mk4Vfllm",
        "outputId": "1fc45d60-9784-48e2-d23d-850b942f9b4e"
      },
      "execution_count": 12,
      "outputs": [
        {
          "output_type": "stream",
          "name": "stdout",
          "text": [
            "[50, 40, 30, 20, 10]\n"
          ]
        }
      ]
    },
    {
      "cell_type": "code",
      "source": [
        "# 11. Write a code to create a tuple with the elements 100, 200, 300 and print it.\n",
        "\n",
        "tuple1 = (100,200,300)\n",
        "\n",
        "print(tuple1)"
      ],
      "metadata": {
        "colab": {
          "base_uri": "https://localhost:8080/"
        },
        "id": "AM4XqWHag7TD",
        "outputId": "9adfa810-2eca-42ee-c29d-9c0b0e0cf56a"
      },
      "execution_count": 14,
      "outputs": [
        {
          "output_type": "stream",
          "name": "stdout",
          "text": [
            "(100, 200, 300)\n"
          ]
        }
      ]
    },
    {
      "cell_type": "code",
      "source": [
        "# 12. Write a code to access the second-to-last element of the tuple ('red', 'green', 'blue', 'yellow').\n",
        "\n",
        "tuple2 = ('red', 'green', 'blue', 'yellow')\n",
        "\n",
        "print(tuple2[-2])"
      ],
      "metadata": {
        "colab": {
          "base_uri": "https://localhost:8080/"
        },
        "id": "Np6zZgOWiC1F",
        "outputId": "951e3ce8-bbb4-4399-e68c-94de13395df2"
      },
      "execution_count": 16,
      "outputs": [
        {
          "output_type": "stream",
          "name": "stdout",
          "text": [
            "blue\n"
          ]
        }
      ]
    },
    {
      "cell_type": "code",
      "source": [
        "# 13. Write a code to find the minimum number in the tuple (10, 20, 5, 15).\n",
        "\n",
        "tuple3 = (10,20,5,15)\n",
        "\n",
        "print(min(tuple3))"
      ],
      "metadata": {
        "colab": {
          "base_uri": "https://localhost:8080/"
        },
        "id": "AF6SL224iX1I",
        "outputId": "8556fd9d-dd6c-4c6b-d420-0451ecd4db91"
      },
      "execution_count": 2,
      "outputs": [
        {
          "output_type": "stream",
          "name": "stdout",
          "text": [
            "5\n"
          ]
        }
      ]
    },
    {
      "cell_type": "code",
      "source": [
        "# 14. Write a code to find the index of the element \"cat\" in the tuple ('dog', 'cat', 'rabbit').\n",
        "\n",
        "tuple4 = ('dog','cat','rabbit')\n",
        "tuple4.index('cat')"
      ],
      "metadata": {
        "colab": {
          "base_uri": "https://localhost:8080/"
        },
        "id": "KsK5P8eNkIoj",
        "outputId": "f0d2317c-7269-4473-9b30-49fb164765da"
      },
      "execution_count": 20,
      "outputs": [
        {
          "output_type": "execute_result",
          "data": {
            "text/plain": [
              "1"
            ]
          },
          "metadata": {},
          "execution_count": 20
        }
      ]
    },
    {
      "cell_type": "code",
      "source": [
        "#  15. Write a code to create a tuple containing three different fruits and check if \"kiwi\" is in it.\n",
        "\n",
        "tuple5 = (\"Apple\", \"Mango\", \"Orange\")\n",
        "\n",
        "if \"kiwi\" in tuple5:\n",
        "  print(\"kiwi is in the tuple\")\n",
        "else:\n",
        "  print(\"kiwi is not in the tuple\")\n"
      ],
      "metadata": {
        "colab": {
          "base_uri": "https://localhost:8080/"
        },
        "id": "myZqSElzkm-p",
        "outputId": "f3c43280-1585-4466-cf13-f14325c7a61b"
      },
      "execution_count": 2,
      "outputs": [
        {
          "output_type": "stream",
          "name": "stdout",
          "text": [
            "kiwi is not in the tuple\n"
          ]
        }
      ]
    },
    {
      "cell_type": "code",
      "source": [
        "# 16. Write a code to create a set with the elements 'a', 'b', 'c' and print it.\n",
        "\n",
        "set1 = {'a', 'b', 'c'}\n",
        "\n",
        "print(set1)"
      ],
      "metadata": {
        "colab": {
          "base_uri": "https://localhost:8080/"
        },
        "id": "ifeSqk7bmBke",
        "outputId": "ce86e37e-f5a1-4dbb-e566-b77c121e0fe9"
      },
      "execution_count": 23,
      "outputs": [
        {
          "output_type": "stream",
          "name": "stdout",
          "text": [
            "{'c', 'a', 'b'}\n"
          ]
        }
      ]
    },
    {
      "cell_type": "code",
      "source": [
        "# 17. Write a code to clear all elements from the set {1, 2, 3, 4, 5}.\n",
        "\n",
        "set2 = {1,2,3,4,5}\n",
        "\n",
        "set2.clear()\n",
        "\n",
        "set2"
      ],
      "metadata": {
        "colab": {
          "base_uri": "https://localhost:8080/"
        },
        "id": "tOcLeyG7mN9I",
        "outputId": "942bc941-9cca-4a09-8607-72060d05a6b3"
      },
      "execution_count": 26,
      "outputs": [
        {
          "output_type": "execute_result",
          "data": {
            "text/plain": [
              "set()"
            ]
          },
          "metadata": {},
          "execution_count": 26
        }
      ]
    },
    {
      "cell_type": "code",
      "source": [
        "# 18. Write a code to remove the element 4 from the set {1, 2, 3, 4}.\n",
        "\n",
        "set3 = {1,2,3,4}\n",
        "\n",
        "set3.remove(4)\n",
        "\n",
        "set3"
      ],
      "metadata": {
        "colab": {
          "base_uri": "https://localhost:8080/"
        },
        "id": "jpbwn-pSmWy-",
        "outputId": "870c7136-4bf3-4bb2-c152-8c5f8c141c54"
      },
      "execution_count": 28,
      "outputs": [
        {
          "output_type": "execute_result",
          "data": {
            "text/plain": [
              "{1, 2, 3}"
            ]
          },
          "metadata": {},
          "execution_count": 28
        }
      ]
    },
    {
      "cell_type": "code",
      "source": [
        "# 19. Write a code to find the union of two sets {1, 2, 3} and {3, 4, 5}.\n",
        "\n",
        "sets_1 = {1,2,3}\n",
        "sets_2 = {3,4,5}\n",
        "\n",
        "print(sets_1 | sets_2)"
      ],
      "metadata": {
        "colab": {
          "base_uri": "https://localhost:8080/"
        },
        "id": "wrYUstoOnYwC",
        "outputId": "cb084fe4-9e00-45cc-c3ce-bc4d8bb15d1b"
      },
      "execution_count": 3,
      "outputs": [
        {
          "output_type": "stream",
          "name": "stdout",
          "text": [
            "{1, 2, 3, 4, 5}\n"
          ]
        }
      ]
    },
    {
      "cell_type": "code",
      "source": [
        "# 20. Write a code to find the intersection of two sets {1, 2, 3} and {2, 3, 4}.\n",
        "\n",
        "sets_1 = {1,2,3}\n",
        "sets_2 = {2,3,4}\n",
        "\n",
        "print(sets_1 & sets_2)"
      ],
      "metadata": {
        "colab": {
          "base_uri": "https://localhost:8080/"
        },
        "id": "9l_euzWVoCwc",
        "outputId": "4004c8e4-d927-4054-ebc2-fc64468644da"
      },
      "execution_count": 4,
      "outputs": [
        {
          "output_type": "stream",
          "name": "stdout",
          "text": [
            "{2, 3}\n"
          ]
        }
      ]
    },
    {
      "cell_type": "code",
      "source": [
        "# 21.  Write a code to create a dictionary with the keys \"name\", \"age\", and \"city\", and print it.\n",
        "\n",
        "dict1 = {\"name\": \"Aditya\", \"age\": 26, \"city\": \"Delhi\"}\n",
        "\n",
        "print(dict1)"
      ],
      "metadata": {
        "colab": {
          "base_uri": "https://localhost:8080/"
        },
        "id": "PdRsgWDfoFph",
        "outputId": "0e007b13-0da9-4e70-c154-19e988895908"
      },
      "execution_count": 32,
      "outputs": [
        {
          "output_type": "stream",
          "name": "stdout",
          "text": [
            "{'name': 'Aditya', 'age': 26, 'city': 'Delhi'}\n"
          ]
        }
      ]
    },
    {
      "cell_type": "code",
      "source": [
        "# 22. Write a code to add a new key-value pair \"country\": \"USA\" to the dictionary {'name': 'John', 'age': 25}.\n",
        "\n",
        "dict2 = {'name': 'John', 'age': 25}\n",
        "\n",
        "dict2[\"country\"] = \"USA\"\n",
        "\n",
        "print(dict2)\n"
      ],
      "metadata": {
        "colab": {
          "base_uri": "https://localhost:8080/"
        },
        "id": "VoN-mPDIqHDX",
        "outputId": "095261e9-1971-40e5-8467-a69564d60b92"
      },
      "execution_count": 5,
      "outputs": [
        {
          "output_type": "stream",
          "name": "stdout",
          "text": [
            "{'name': 'John', 'age': 25, 'country': 'USA'}\n"
          ]
        }
      ]
    },
    {
      "cell_type": "code",
      "source": [
        "# 23. Write a code to access the value associated with the key \"name\" in the dictionary {'name': 'Alice', 'age': 30}.\n",
        "\n",
        "dict1 = {'name': 'Alice', 'age': 30}\n",
        "\n",
        "print(dict1['name'])"
      ],
      "metadata": {
        "colab": {
          "base_uri": "https://localhost:8080/"
        },
        "id": "DIrVbR_BLQ7R",
        "outputId": "75aeda03-c96a-44aa-94db-b813e9d9ca0d"
      },
      "execution_count": 6,
      "outputs": [
        {
          "output_type": "stream",
          "name": "stdout",
          "text": [
            "Alice\n"
          ]
        }
      ]
    },
    {
      "cell_type": "code",
      "source": [
        "# 24. Write a code to remove the key \"age\" from the dictionary {'name': 'Bob', 'age': 22, 'city': 'New York'}.\n",
        "\n",
        "dict3 = {'name': 'Bob', 'age': 22, 'city': 'New York'}\n",
        "\n",
        "del dict3[\"age\"]\n",
        "\n",
        "print(dict3)\n"
      ],
      "metadata": {
        "colab": {
          "base_uri": "https://localhost:8080/"
        },
        "id": "UXPdlgUBLQuZ",
        "outputId": "173769b3-ef41-449d-a5c6-7f6beaa57012"
      },
      "execution_count": 7,
      "outputs": [
        {
          "output_type": "stream",
          "name": "stdout",
          "text": [
            "{'name': 'Bob', 'city': 'New York'}\n"
          ]
        }
      ]
    },
    {
      "cell_type": "code",
      "source": [
        "# 25. Write a code to check if the key \"city\" exists in the dictionary {'name': 'Alice', 'city': 'Paris'}.\n",
        "\n",
        "dict4 = {'name': 'Alice', 'city': 'Paris'}\n",
        "\n",
        "if \"city\" in dict4:\n",
        "    print(\"city exists in the dictionary\")\n",
        "else:\n",
        "    print(\"city not exists in the dictionary\")"
      ],
      "metadata": {
        "colab": {
          "base_uri": "https://localhost:8080/"
        },
        "id": "Wp8MnOFXLQij",
        "outputId": "3679fc7b-1348-45c9-8d1e-25ae9c80ccb8"
      },
      "execution_count": 2,
      "outputs": [
        {
          "output_type": "stream",
          "name": "stdout",
          "text": [
            "city exists in the dictionary\n"
          ]
        }
      ]
    },
    {
      "cell_type": "code",
      "source": [
        "# 26. Write a code to create a list, a tuple, and a dictionary, and print them all.\n",
        "\n",
        "list_1 = [1,2,3,4,5,\"AA\", True]\n",
        "\n",
        "tuple_1 = (1,2,3,4,5,6, \"AB\", False)\n",
        "\n",
        "dict_1 = {\"name\": \"AA\", \"age\": 24, \"city\": \"Delhi\"}\n",
        "\n",
        "print(list_1)\n",
        "print(tuple_1)\n",
        "print(dict_1)"
      ],
      "metadata": {
        "colab": {
          "base_uri": "https://localhost:8080/"
        },
        "id": "MJlNIqszLQU4",
        "outputId": "7824e579-3cdf-47d1-93c0-8aaf59e6ea25"
      },
      "execution_count": 4,
      "outputs": [
        {
          "output_type": "stream",
          "name": "stdout",
          "text": [
            "[1, 2, 3, 4, 5, 'AA', True]\n",
            "(1, 2, 3, 4, 5, 6, 'AB', False)\n",
            "{'name': 'AA', 'age': 24, 'city': 'Delhi'}\n"
          ]
        }
      ]
    },
    {
      "cell_type": "code",
      "source": [
        "# 27. Write a code to create a list of 5 random numbers between 1 and 100, sort it in ascending order, and print the result.(replaced)\n",
        "\n",
        "random_list = [23,44,12,29,48]\n",
        "\n",
        "random_list.sort()\n",
        "\n",
        "print(random_list)"
      ],
      "metadata": {
        "colab": {
          "base_uri": "https://localhost:8080/"
        },
        "id": "5FsVK-J6L0ed",
        "outputId": "ca8bcff0-84ab-40c3-e0c1-bdb85ffeb697"
      },
      "execution_count": 10,
      "outputs": [
        {
          "output_type": "stream",
          "name": "stdout",
          "text": [
            "[12, 23, 29, 44, 48]\n"
          ]
        }
      ]
    },
    {
      "cell_type": "code",
      "source": [
        "# 28. Write a code to create a list with strings and print the element at the third index.\n",
        "\n",
        "list6 = [\"AA\", \"BB\", \"CC\", \"DD\", \"EE\"]\n",
        "\n",
        "print(list6[3])"
      ],
      "metadata": {
        "colab": {
          "base_uri": "https://localhost:8080/"
        },
        "id": "qazos6r9L0Nx",
        "outputId": "763e6a61-0635-4a57-8172-469c016d6404"
      },
      "execution_count": 6,
      "outputs": [
        {
          "output_type": "stream",
          "name": "stdout",
          "text": [
            "DD\n"
          ]
        }
      ]
    },
    {
      "cell_type": "code",
      "source": [
        "# 29. Write a code to combine two dictionaries into one and print the result.\n",
        "\n",
        "dict_3 = {\"name\": \"AA\", \"age\": 24, \"city\": \"Delhi\"}\n",
        "dict_4 = {\"job\": \"data science\", \"skills\": \"Tech\", \"state\": \"New Delhi\"}\n",
        "\n",
        "dict_3.update(dict_4)\n",
        "\n",
        "print(dict_3)"
      ],
      "metadata": {
        "colab": {
          "base_uri": "https://localhost:8080/"
        },
        "id": "fq7PoyYUL0B3",
        "outputId": "22571ad4-bd40-4aa3-a839-099c2c3c5368"
      },
      "execution_count": 9,
      "outputs": [
        {
          "output_type": "execute_result",
          "data": {
            "text/plain": [
              "{'name': 'AA',\n",
              " 'age': 24,\n",
              " 'city': 'Delhi',\n",
              " 'job': 'data science',\n",
              " 'skills': 'Tech',\n",
              " 'state': 'New Delhi'}"
            ]
          },
          "metadata": {},
          "execution_count": 9
        }
      ]
    },
    {
      "cell_type": "code",
      "source": [
        "# 30. Write a code to convert a list of strings into a set.\n",
        "\n",
        "list_8 = [\"AA\", \"BB\", \"CC\", \"DD\", \"EE\"]\n",
        "\n",
        "print(set(list_8))"
      ],
      "metadata": {
        "colab": {
          "base_uri": "https://localhost:8080/"
        },
        "id": "qBPMNQ4KLz1k",
        "outputId": "ff000233-b696-4e72-e901-1894a956aa3f"
      },
      "execution_count": 8,
      "outputs": [
        {
          "output_type": "stream",
          "name": "stdout",
          "text": [
            "{'AA', 'EE', 'CC', 'DD', 'BB'}\n"
          ]
        }
      ]
    },
    {
      "cell_type": "code",
      "source": [],
      "metadata": {
        "id": "e1mz9JrfWTvB"
      },
      "execution_count": null,
      "outputs": []
    }
  ]
}