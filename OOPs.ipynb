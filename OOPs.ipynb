{
  "nbformat": 4,
  "nbformat_minor": 0,
  "metadata": {
    "colab": {
      "provenance": []
    },
    "kernelspec": {
      "name": "python3",
      "display_name": "Python 3"
    },
    "language_info": {
      "name": "python"
    }
  },
  "cells": [
    {
      "cell_type": "markdown",
      "source": [
        "## Python OOPs Questions"
      ],
      "metadata": {
        "id": "NkzGjbP_WF3H"
      }
    },
    {
      "cell_type": "markdown",
      "source": [
        "1. What is Object-Oriented Programming (OOP) ?\n",
        "  - Object-Oriented Programming (OOP) is a programming paradigm that organize software design around object rather than just function and logic. In OOP we create classes and object to make code more structured, reusable and easy to manage.\n",
        "\n",
        "2. What is a class in OOP?\n",
        "  - A class in OOP is a blueprint or template to create objects. It defines the attributes and methods that the objects created from it will have.\n",
        "\n",
        "3. What is an object in OOP?\n",
        "  - An object is an instances of class. When we create a class it acts like a blueprint but nothing is created until we create an object. Each object represents of its own data while sharing the methods defined in the class. In simple words we can say that class is like a design or plan, and objects are the real things built from that plan.\n",
        "\n",
        "4. What is the difference between abstraction and encapsulation?\n",
        "  - Abstraction is the process of hiding comples implementation details and showing only the essential features to the user. It focus on what it does does rather that how is does. When we drive a car just accerlate to speed up without knowing the internal working of the engine.\n",
        "\n",
        "    Encapsulation is the process of wrapping data and methods togethen into a single unit. It focus on protecting data and restricting direct accsess to it. A bank account class hides the account balance as private data and only provied deposit and withdraw methods to access it.\n",
        "  \n",
        "5. What are dunder methods in Python?\n",
        "  - Dunder methods also called magic method or special method are built-in menthod in python that start with double underscore and end with double underscore. These method are automatically invoked by python during certain operations like __add__, __str__,__init__ etc.\n",
        "\n",
        "6. Explain the concept of inheritance in OOP.\n",
        "  - Inheritance in OOp allows a new class or child class to inherit the properties and behavior of an existing class or parent class. Bascially the child class can use the methods and data of the parent class but not vice-versa. It increase the reusability and establishe a relationship between classes\n",
        "\n",
        "7. What is polymorphism in OOP?\n",
        "  - The polymosphism is combination of two words Poly means many and mosphism means form. Polymorphism means the ability of an object to take many forms. It allows the same function, method or object to behave differentlty in different situations.\n",
        "\n",
        "8. How is encapsulation achieved in Python?\n",
        "  - Encapsulation is schieved in python using access modifiers public, private and protected.\n",
        "    \n",
        "    Public Members: all attributes and methods can be accessed directly access from anywhere even outside the class also.\n",
        "\n",
        "    Protected Members: a single underscore _ before any attributes or method name indicated the protected. It uses internally within the class or its subclass. It also avoid the direct external access\n",
        "\n",
        "    Private Memebrs: A double underscore __ before any atrributes or method name indicated the private and not possible to access directly outside the class and a strong form of protected members\n",
        "\n",
        "9. What is a constructor in Python?\n",
        "  - A constrcutor in python is a special type of method that is automatically invoked when an object of a class is created. The purpose of constructor is to initialize the atttricutes of the object with default or uder defined value.\n",
        "\n",
        "10. What are class and static methods in Python?\n",
        "  - Class method is a method that is bound to the class itself. It is defined using the @classmethod. it can access and modify class level variables but can not directly access instance level variables. A static method does not bound to any class or instance. It behaves like a regular function but it is placed inside the class. It is defined using @staticmethod. it cannot access or modift class level or instance level variables.\n",
        "\n",
        "11. What is method overloading in Python?\n",
        "  - Method overloading means defining multiple methods with the same name but with different number or types of parameters, so that the correct method is chosen based on the arguments passed. But Python does not support method overloading because if you define multiple method with the same name , only the latest method will be used. But python achieves a similar effect by using default arguments.\n",
        "\n",
        "\n",
        "12. What is method overriding in OOP?\n",
        "  - Method overridng in OOP is a mechanism where a child class new implementation of a method that is already defined in its parent class. The method in the clild class must have same name, parameters adn return type as the method in the parent class. In that case when clild class overrides the parent class method and when called, the child classs method is executed.\n",
        "\n",
        "13. What is a property decorator in Python?\n",
        "  - property decorator (@property) is a in-built feature that is used to define methods in a class that behave like attributes. It allows you to implement getter, setter and deleter method in a simple way withour calling them like function. Instead of calling a method like obj.get_value(), you can simply access it like an attribute obj.value.\n",
        "\n",
        "\n",
        "14. Why is polymorphism important in OOP?\n",
        "  - Polymorphism is important in OOP because it allows the same function or method name to work in different ways depending on the object. This makes code more flexible, reusable and easy to maintain. Instead of writing separate function for each type of object we can use one method or fucntion.\n",
        "\n",
        "15. What is an abstract class in Python?\n",
        "  - An abstract class in pythonn is a class that is designed to act as a blueprint for other classes. It is ensure that all its clild class follow a common structure and implement specific method. for examples: if we have an abstract class shape with an abstract method area(), then all sublasses like circle, rectangle must provide their own version of area().\n",
        "\n",
        "16. What are the advantages of OOP?\n",
        "  - Advantage of OOP are - it makes the code more organized way by dividing code into class or object. It allows reusability of code through inheritance and also improves data security with encapsulation. Polymosphism provides flexibility by letting the same function behave differently in different situation, and abstraction helps in hiding unnecessary details.\n",
        "\n",
        "17. What is the difference between a class variable and an instance variable?\n",
        "  - A class variable is a variable that is shared by all object of a class. it is defined inside the class but outside any method. If its value is changed, the change is reflected across all objects of that class. On the other hand an instance variable bolongs to a specific object. it is usually defined inside the constructor using self. Each object gets its own copy of instances variable, and changing one object instance varibale does not reflect others.\n",
        "\n",
        "18. What is multiple inheritance in Python?\n",
        "  - Multiple inheritance in python is a mechanism that allows a child class to inherit function and method from more than one parent class. Example: if class C inherits from bith class A and class B than class C use function and method from both class A and class B.\n",
        "\n",
        "19. Explain the purpose of ‘’__str__’ and ‘__repr__’ ‘ methods in Python?\n",
        "  - Both __str__ and __repr__ method are dunder methods. The __str__ method is to return a human readable string representation of the ovject. The __repr__ method is to return a string that represent the object is an unambogous and developer oriented way.\n",
        "\n",
        "20. What is the significance of the ‘super()’ function in Python?\n",
        "  - The super() function helps a child class use the functionality of its parents class. It allows code resuse and avoid repeating the same logic.\n",
        "\n",
        "21. What is the significance of the __del__ method in Python?\n",
        "  -The __del__ method in pyhton is a destructor. Its main significance is that it is automatically called when an object is about to be destroyed\n",
        "\n",
        "22. What is the difference between @staticmethod and @classmethod in Python?\n",
        "  - @staticmethod does not take self or cls as its first parameter. It behaves like a normal function but belongs to the class.\n",
        "  @classmethod takes cls as its first parameter. It can access and modify class level attribiution\n",
        "\n",
        "\n",
        "23. How does polymorphism work in Python with inheritance?\n",
        "  - Polyosphism in pyhton allows the same method name to perform different tasks depending on the object that calls.  With inheritance a base class defines the method  and a child class ovverreide this method.\n",
        "\n",
        "24. What is method chaining in Python OOP?\n",
        "  - Method chaining in pyhton OOP refers to the practice of calling multiple methods on the same object in a single line of code. When a method return self, the next method in the chain can ne called directly on the same object\n",
        "\n",
        "25. What is the purpose of the __call__ method in Python?\n",
        "  - The __call__ method is a dunder method that allows an instanc of a class to be called as if it were a function. __call__ method makes an object callabel. you call a functin by using (), but if a class defned the __call__ method, then its object can also be invoked the same way\n",
        "\n",
        "\n"
      ],
      "metadata": {
        "id": "K7mX7TXxWO5z"
      }
    },
    {
      "cell_type": "code",
      "source": [
        "''' 1.  Create a parent class Animal with a method speak() that prints a generic message.\n",
        "        Create a child class Dog that overrides the speak() method to print \"Bark!\".\n",
        "        '''\n",
        "class Animal:\n",
        "    def speak(self):\n",
        "        print(\"Animal Voice\")\n",
        "\n",
        "class Dog(Animal):\n",
        "    def speak(self):\n",
        "        print(\"Bark!\")\n",
        "\n",
        "dog = Dog()\n",
        "dog.speak()"
      ],
      "metadata": {
        "colab": {
          "base_uri": "https://localhost:8080/"
        },
        "id": "sBTnRvQWCU1D",
        "outputId": "fac5c117-2646-4901-fd5a-851b6c0c3799"
      },
      "execution_count": 6,
      "outputs": [
        {
          "output_type": "stream",
          "name": "stdout",
          "text": [
            "Bark!\n"
          ]
        }
      ]
    },
    {
      "cell_type": "code",
      "source": [
        "''' 2. Write a program to create an abstract class Shape with a method area().\n",
        "        Derive classes Circle and Rectangle from it and implement the area() method in both.\n",
        "        '''\n",
        "import abc\n",
        "\n",
        "class shape:\n",
        "  @abc.abstractmethod\n",
        "  def area(self):\n",
        "    pass\n",
        "\n",
        "class Circle(shape):\n",
        "  def __init__(self, radius):\n",
        "    self.radius = radius\n",
        "\n",
        "  def area(self):\n",
        "    return 3.14 * self.radius * self.radius\n",
        "\n",
        "class Rectangle(shape):\n",
        "  def __init__(self, length, breadth):\n",
        "    self.length = length\n",
        "    self.breadth = breadth\n",
        "\n",
        "  def area(self):\n",
        "    return self.length*self.breadth\n",
        "\n",
        "\n",
        "circle = Circle(7)\n",
        "rectangle = Rectangle(4, 6)\n",
        "\n",
        "print(\"Area of Circle:\", circle.area())\n",
        "print(\"Area of Rectangle:\", rectangle.area())"
      ],
      "metadata": {
        "id": "s7POt2_6NkR5",
        "colab": {
          "base_uri": "https://localhost:8080/"
        },
        "outputId": "1d6d94cb-2ca1-42de-bb98-5d1dd47b0d2f"
      },
      "execution_count": 2,
      "outputs": [
        {
          "output_type": "stream",
          "name": "stdout",
          "text": [
            "Area of Circle: 153.86\n",
            "Area of Rectangle: 24\n"
          ]
        }
      ]
    },
    {
      "cell_type": "code",
      "source": [
        "'''3. Implement a multi-level inheritance scenario where a class Vehicle has an attribute type. Derive a class Car\n",
        "and further derive a class ElectricCar that adds a battery attribute.\n",
        "'''\n",
        "\n",
        "class Vehicle:\n",
        "    def __init__(self, type):\n",
        "        self.type = type\n",
        "\n",
        "class Car(Vehicle):\n",
        "    def __init__(self, type, model):\n",
        "        Vehicle.__init__(self, type)\n",
        "        self.model = model\n",
        "\n",
        "class ElectricCar(Car):\n",
        "    def __init__(self, type, model, battery):\n",
        "        Car.__init__(self, type, model)\n",
        "        self.battery = battery\n",
        "\n",
        "car_details= ElectricCar(\"Four-wheeler\", \"Tata\", \"85 kWh\")\n",
        "print(\"Type:\", car_details.type)\n",
        "print(\"Brand:\", car_details.model)\n",
        "print(\"Battery:\", car_details.battery)\n"
      ],
      "metadata": {
        "colab": {
          "base_uri": "https://localhost:8080/"
        },
        "id": "-PDaAQrLZAd5",
        "outputId": "e8739c88-f189-49cb-f8b6-ea0e7bb8e716"
      },
      "execution_count": 7,
      "outputs": [
        {
          "output_type": "stream",
          "name": "stdout",
          "text": [
            "Type: Four-wheeler\n",
            "Brand: Tata\n",
            "Battery: 85 kWh\n"
          ]
        }
      ]
    },
    {
      "cell_type": "code",
      "source": [
        "'''4. Demonstrate polymorphism by creating a base class Bird with a method fly(). Create two derived classes\n",
        "Sparrow and Penguin that override the fly() method.\n",
        "'''\n",
        "\n",
        "class Bird:\n",
        "    def fly(self):\n",
        "        print(\"Birds can fly\")\n",
        "\n",
        "class Sparrow(Bird):\n",
        "    def fly(self):\n",
        "        print(\"Sparrows can fly\")\n",
        "\n",
        "class Penguin(Bird):\n",
        "    def fly(self):\n",
        "        print(\"Penguins cannot fly\")\n",
        "\n",
        "\n",
        "bird = Bird().fly()\n",
        "sparrow = Sparrow().fly()\n",
        "penguin = Penguin().fly()\n"
      ],
      "metadata": {
        "colab": {
          "base_uri": "https://localhost:8080/"
        },
        "id": "CsNnjByJZFT3",
        "outputId": "d420b4e6-a4df-4ba8-f278-339a136746ae"
      },
      "execution_count": 8,
      "outputs": [
        {
          "output_type": "stream",
          "name": "stdout",
          "text": [
            "Birds can fly\n",
            "Sparrows can fly\n",
            "Penguins cannot fly\n"
          ]
        }
      ]
    },
    {
      "cell_type": "code",
      "source": [
        "'''5. Write a program to demonstrate encapsulation by creating a class BankAccount with private attributes\n",
        "balance and methods to deposit, withdraw, and check balance.\n",
        "'''\n",
        "\n",
        "class BankAccount:\n",
        "\n",
        "\n",
        "  def __init__(self, balance = 0):\n",
        "    self.__balance = balance\n",
        "\n",
        "  def deposit(self, amount):\n",
        "    self.__balance += amount\n",
        "\n",
        "  def withdraw(self, amount):\n",
        "    if self.__balance >= amount:\n",
        "        self.__balance -= amount\n",
        "        print(\"Withdrawn:\", amount)\n",
        "    else:\n",
        "        print(\"Insufficient balance\")\n",
        "\n",
        "  def check_balance(self):\n",
        "    print(\"Total Balance: \",self.__balance)\n",
        "\n",
        "\n",
        "acc = BankAccount(500)\n",
        "acc.deposit(1000)\n",
        "acc.withdraw(400)\n",
        "acc.check_balance()\n"
      ],
      "metadata": {
        "colab": {
          "base_uri": "https://localhost:8080/"
        },
        "id": "To7Gyiv2ZIUT",
        "outputId": "509d678d-ceb6-489f-b47f-ccde29b46809"
      },
      "execution_count": 21,
      "outputs": [
        {
          "output_type": "stream",
          "name": "stdout",
          "text": [
            "Withdrawn: 400\n",
            "Total Balance:  1100\n"
          ]
        }
      ]
    },
    {
      "cell_type": "code",
      "source": [
        "'''6. Demonstrate runtime polymorphism using a method play() in a base class Instrument. Derive classes Guitar\n",
        "and Piano that implement their own version of play().\n",
        "'''\n",
        "\n",
        "class Instrument:\n",
        "    def play(self):\n",
        "        print(\"Instrument is playing\")\n",
        "\n",
        "class Guitar(Instrument):\n",
        "    def play(self):\n",
        "        print(\"Guitar is playing\")\n",
        "\n",
        "class Piano(Instrument):\n",
        "    def play(self):\n",
        "        print(\"Piano is playing\")\n",
        "\n",
        "instrument = Instrument().play()\n",
        "guitar = Guitar().play()\n",
        "piano = Piano().play()"
      ],
      "metadata": {
        "colab": {
          "base_uri": "https://localhost:8080/"
        },
        "id": "F51KDHdGZMHi",
        "outputId": "164c41fb-ec05-4cd3-8bab-1c35b3a8da4e"
      },
      "execution_count": 22,
      "outputs": [
        {
          "output_type": "stream",
          "name": "stdout",
          "text": [
            "Instrument is playing\n",
            "Guitar is playing\n",
            "Piano is playing\n"
          ]
        }
      ]
    },
    {
      "cell_type": "code",
      "source": [
        "'''7. Create a class MathOperations with a class method add_numbers() to add two numbers and a static\n",
        "method subtract_numbers() to subtract two numbers.\n",
        "'''\n",
        "\n",
        "class MathOperations:\n",
        "    @classmethod\n",
        "    def add_numbers(cls, num1, num2):\n",
        "        return num1 + num2\n",
        "\n",
        "    @staticmethod\n",
        "    def subtract_numbers(num1, num2):\n",
        "        return num1 - num2\n",
        "\n",
        "print(MathOperations.add_numbers(10, 5))\n",
        "print(MathOperations.subtract_numbers(10, 5))"
      ],
      "metadata": {
        "colab": {
          "base_uri": "https://localhost:8080/"
        },
        "id": "qMFVbUAjZQSB",
        "outputId": "7ac10514-41f5-4a3f-9817-8a6937fcd47b"
      },
      "execution_count": 24,
      "outputs": [
        {
          "output_type": "stream",
          "name": "stdout",
          "text": [
            "15\n",
            "5\n"
          ]
        }
      ]
    },
    {
      "cell_type": "code",
      "source": [
        "'''8. Implement a class Person with a class method to count the total number of persons created.\n",
        "'''\n",
        "\n",
        "class Person:\n",
        "    count = 0\n",
        "\n",
        "    def __init__(self, name):\n",
        "        self.name = name\n",
        "        Person.count += 1\n",
        "\n",
        "    @classmethod\n",
        "    def get_count(cls):\n",
        "        return cls.count\n",
        "\n",
        "person1 = Person(\"ABC\")\n",
        "person2 = Person(\"XYZ\")\n",
        "\n",
        "print(Person.get_count())"
      ],
      "metadata": {
        "colab": {
          "base_uri": "https://localhost:8080/"
        },
        "id": "FRQXU80-ZdXV",
        "outputId": "43fe45b5-f3ce-4460-94d9-fadce14b1899"
      },
      "execution_count": 27,
      "outputs": [
        {
          "output_type": "stream",
          "name": "stdout",
          "text": [
            "2\n"
          ]
        }
      ]
    },
    {
      "cell_type": "code",
      "source": [
        "'''9. Write a class Fraction with attributes numerator and denominator. Override the str method to display the\n",
        "fraction as \"numerator/denominator\".\n",
        "'''\n",
        "\n",
        "class Fraction:\n",
        "  def __init__(self,numerator,denominator):\n",
        "    self.numerator = numerator\n",
        "    self.denominator = denominator\n",
        "\n",
        "  def __str__(self):\n",
        "    return f\"{self.numerator}/{self.denominator}\"\n",
        "\n",
        "fraction = Fraction(7,9)\n",
        "print(fraction)"
      ],
      "metadata": {
        "colab": {
          "base_uri": "https://localhost:8080/"
        },
        "id": "Iaxx3QX2ZgU6",
        "outputId": "ef35fe69-83a6-42f1-8886-347e4bb05714"
      },
      "execution_count": 45,
      "outputs": [
        {
          "output_type": "stream",
          "name": "stdout",
          "text": [
            "7/9\n"
          ]
        }
      ]
    },
    {
      "cell_type": "code",
      "source": [
        "''' 10. Demonstrate operator overloading by creating a class Vector and overriding the add method to add two\n",
        "vectors.\n",
        "'''\n",
        "\n",
        "class Vector:\n",
        "    def __init__(self, x, y):\n",
        "        self.x = x\n",
        "        self.y = y\n",
        "\n",
        "    def __add__(self, other):\n",
        "        return Vector(self.x + other.x, self.y + other.y)\n",
        "\n",
        "v1 = Vector(1, 2)\n",
        "v2 = Vector(3, 4)\n",
        "\n",
        "v3 = v1 + v2\n",
        "\n",
        "print(v3.x, v3.y)\n"
      ],
      "metadata": {
        "colab": {
          "base_uri": "https://localhost:8080/"
        },
        "id": "EP-CpZWHZqwU",
        "outputId": "2255ab70-4590-418c-c0ff-48d8e7e77f5f"
      },
      "execution_count": 5,
      "outputs": [
        {
          "output_type": "stream",
          "name": "stdout",
          "text": [
            "4 6\n"
          ]
        }
      ]
    },
    {
      "cell_type": "code",
      "source": [
        "''' 11. Create a class Person with attributes name and age. Add a method greet() that prints \"Hello, my name is\n",
        "{name} and I am {age} years old.\"\n",
        "'''\n",
        "\n",
        "class Person:\n",
        "    def __init__(self, name, age):\n",
        "        self.name = name\n",
        "        self.age = age\n",
        "\n",
        "    def greet(self):\n",
        "        print(f\"Hello, my name is {self.name} and I am {self.age} years old.\")\n",
        "\n",
        "p1 = Person(\"ABC\", 27)\n",
        "\n",
        "p1.greet()"
      ],
      "metadata": {
        "colab": {
          "base_uri": "https://localhost:8080/"
        },
        "id": "SUrOBSzmZtZF",
        "outputId": "360f4339-f7e9-45d3-c606-1d911fa1f5d0"
      },
      "execution_count": 46,
      "outputs": [
        {
          "output_type": "stream",
          "name": "stdout",
          "text": [
            "Hello, my name is ABC and I am 27 years old.\n"
          ]
        }
      ]
    },
    {
      "cell_type": "code",
      "source": [
        "''' 12. Implement a class Student with attributes name and grades. Create a method average_grade() to compute\n",
        "the average of the grades.\n",
        "'''\n",
        "\n",
        "class Student:\n",
        "    def __init__(self, name, grades):\n",
        "        self.name = name\n",
        "        self.grades = grades\n",
        "\n",
        "    def average_grade(self):\n",
        "        return sum(self.grades) / len(self.grades)\n",
        "\n",
        "\n",
        "s1 = Student(\"ABC\", [78,99,98,75])\n",
        "\n",
        "print(s1.average_grade())\n"
      ],
      "metadata": {
        "colab": {
          "base_uri": "https://localhost:8080/"
        },
        "id": "7ScSagLhZxnq",
        "outputId": "ff791646-7815-4bcf-f35e-aa87859aeafe"
      },
      "execution_count": 48,
      "outputs": [
        {
          "output_type": "stream",
          "name": "stdout",
          "text": [
            "87.5\n"
          ]
        }
      ]
    },
    {
      "cell_type": "code",
      "source": [
        "''' 13. Create a class Rectangle with methods set_dimensions() to set the dimensions and area() to calculate the\n",
        "area.\n",
        "'''\n",
        "\n",
        "class Rectangle:\n",
        "  def __init__(self):\n",
        "    self.length = 0\n",
        "    self.breadth = 0\n",
        "\n",
        "  def set_dimensions(self,length, breadth):\n",
        "    self.length = length\n",
        "    self.breadth = breadth\n",
        "    print(\"Dimension Set\")\n",
        "\n",
        "  def area(self):\n",
        "    return self.length * self.breadth\n",
        "\n",
        "r1 = Rectangle()\n",
        "r1.set_dimensions(4,5)\n",
        "print(r1.area())\n"
      ],
      "metadata": {
        "colab": {
          "base_uri": "https://localhost:8080/"
        },
        "id": "uxzJNOcJZ0hI",
        "outputId": "d48533ad-ce01-4b4a-bd17-b9109072c706"
      },
      "execution_count": 62,
      "outputs": [
        {
          "output_type": "stream",
          "name": "stdout",
          "text": [
            "Dimension Set\n",
            "20\n"
          ]
        }
      ]
    },
    {
      "cell_type": "code",
      "source": [
        "''' 14. Create a class Employee with a method calculate_salary() that computes the salary based on hours worked\n",
        "and hourly rate. Create a derived class Manager that adds a bonus to the salary\n",
        "'''\n",
        "\n",
        "class Employee:\n",
        "  def __init__(self, name, hours_worked, hourly_rate):\n",
        "    self.name = name\n",
        "    self.hours_worked = hours_worked\n",
        "    self.hourly_rate = hourly_rate\n",
        "\n",
        "  def calculate_salary(self):\n",
        "    self.salary = self.hours_worked * self.hourly_rate\n",
        "    return self.salary\n",
        "\n",
        "class Manager(Employee):\n",
        "  def __init__(self,name, hours_worked, hourly_rate,bonus):\n",
        "    Employee.__init__(self, name, hours_worked, hourly_rate)\n",
        "    self.bonus = bonus\n",
        "\n",
        "  def calculate_salary(self):\n",
        "     Employee.calculate_salary(self)\n",
        "     return self.salary + self.bonus\n",
        "\n",
        "\n",
        "emp = Employee(\"ABC\", 40, 50)\n",
        "print(\"Employee Salary - \", emp.name,\":\", emp.calculate_salary())\n",
        "\n",
        "mgr = Manager(\"XYZ\", 40, 50, 5000)\n",
        "print(\"Employee Salary with Bonus - \" ,mgr.name,\":\", mgr.calculate_salary())\n"
      ],
      "metadata": {
        "colab": {
          "base_uri": "https://localhost:8080/"
        },
        "id": "-KZd7KdFZ3EL",
        "outputId": "344dcdc5-e8e7-409e-cd9a-ed15ee5250cc"
      },
      "execution_count": 87,
      "outputs": [
        {
          "output_type": "stream",
          "name": "stdout",
          "text": [
            "Employee Salary -  ABC : 2000\n",
            "Employee Salary with Bonus -  XYZ : 7000\n"
          ]
        }
      ]
    },
    {
      "cell_type": "code",
      "source": [
        "''' 15. Create a class Product with attributes name, price, and quantity.\n",
        "Implement a method total_price() that calculates the total price of the product.\n",
        "'''\n",
        "\n",
        "class Product:\n",
        "  def __init__(self, name, price, quantity):\n",
        "    self.name = name\n",
        "    self.price = price\n",
        "    self.quantity = quantity\n",
        "\n",
        "  def total_price(self):\n",
        "    return self.price * self.quantity\n",
        "\n",
        "p1 = Product(\"ABC\",101,9)\n",
        "p2 = Product(\"XYZ\", 23 ,15)\n",
        "\n",
        "print(p1.name,\":\",p1.total_price())\n",
        "print(p2.name,\":\",p2.total_price())\n"
      ],
      "metadata": {
        "colab": {
          "base_uri": "https://localhost:8080/"
        },
        "id": "8sZOxzG5Z7ml",
        "outputId": "ae447563-129f-4b66-d2b9-da122b26341c"
      },
      "execution_count": 89,
      "outputs": [
        {
          "output_type": "stream",
          "name": "stdout",
          "text": [
            "ABC : 909\n",
            "XYZ : 345\n"
          ]
        }
      ]
    },
    {
      "cell_type": "code",
      "source": [
        "''' 16. Create a class Animal with an abstract method sound(). Create two derived classes Cow and Sheep that\n",
        "implement the sound() method.\n",
        "'''\n",
        "\n",
        "import abc\n",
        "\n",
        "class Animal:\n",
        "    @abc.abstractmethod\n",
        "    def sound(self):\n",
        "        pass\n",
        "\n",
        "class Cow(Animal):\n",
        "    def sound(self):\n",
        "        print(\"Moo!\")\n",
        "\n",
        "class Sheep(Animal):\n",
        "    def sound(self):\n",
        "        print(\"Baa!\")\n",
        "\n",
        "cow = Cow()\n",
        "cow.sound()\n",
        "\n",
        "sheep = Sheep()\n",
        "sheep.sound()"
      ],
      "metadata": {
        "colab": {
          "base_uri": "https://localhost:8080/"
        },
        "id": "NqJde3LlaAV2",
        "outputId": "ead64d11-7272-4088-a779-271a7ef9a5e8"
      },
      "execution_count": 90,
      "outputs": [
        {
          "output_type": "stream",
          "name": "stdout",
          "text": [
            "Moo!\n",
            "Baa!\n"
          ]
        }
      ]
    },
    {
      "cell_type": "code",
      "source": [
        "''' 17. Create a class Book with attributes title, author, and year_published. Add a method get_book_info() that\n",
        "returns a formatted string with the book's details.\n",
        "'''\n",
        "\n",
        "class Book:\n",
        "  def __init__(self, title, author, year_published):\n",
        "    self.title = title\n",
        "    self.author = author\n",
        "    self.year_published = year_published\n",
        "\n",
        "  def get_book_info(self):\n",
        "    return f\"{self.title} by {self.author} published in {self.year_published}\"\n",
        "\n",
        "\n",
        "b1 = Book(\"ABC\", \"XYZ\", 2023)\n",
        "print(b1.get_book_info())"
      ],
      "metadata": {
        "colab": {
          "base_uri": "https://localhost:8080/"
        },
        "id": "2XY-iOeUaGmn",
        "outputId": "0c619e2e-f3a2-4a10-c152-55e41c0bca90"
      },
      "execution_count": 9,
      "outputs": [
        {
          "output_type": "stream",
          "name": "stdout",
          "text": [
            "ABC by XYZ published in 2023\n"
          ]
        }
      ]
    },
    {
      "cell_type": "code",
      "source": [
        "''' 18. Create a class House with attributes address and price. Create a derived class Mansion that adds an\n",
        "attribute number_of_rooms.\n",
        "'''\n",
        "\n",
        "class House:\n",
        "  def __init__(self, address, price):\n",
        "    self.address = address\n",
        "    self.price = price\n",
        "\n",
        "class Mansion(House):\n",
        "  def __init__(self, address, price, number_of_rooms):\n",
        "    House.__init__(self, address, price)\n",
        "    self.number_of_rooms = number_of_rooms\n",
        "\n",
        "h1 = House(\"XYZ Address\", 1000000)\n",
        "m1 = Mansion(\"ABC\", 5000000, 15)\n",
        "\n",
        "print(h1.address, h1.price)\n",
        "print(m1.address, m1.price, m1.number_of_rooms)"
      ],
      "metadata": {
        "colab": {
          "base_uri": "https://localhost:8080/"
        },
        "id": "N00s_lhfaLQh",
        "outputId": "31e058af-5877-44e8-fc1f-1c8ee8fb1e18"
      },
      "execution_count": 96,
      "outputs": [
        {
          "output_type": "stream",
          "name": "stdout",
          "text": [
            "XYZ Address 1000000\n",
            "ABC 5000000 15\n"
          ]
        }
      ]
    }
  ]
}