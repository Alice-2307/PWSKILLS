{
  "nbformat": 4,
  "nbformat_minor": 0,
  "metadata": {
    "colab": {
      "provenance": []
    },
    "kernelspec": {
      "name": "python3",
      "display_name": "Python 3"
    },
    "language_info": {
      "name": "python"
    }
  },
  "cells": [
    {
      "cell_type": "markdown",
      "source": [],
      "metadata": {
        "id": "el22JraGSsWs"
      }
    },
    {
      "cell_type": "code",
      "execution_count": null,
      "metadata": {
        "id": "p_RHXs12HBQX"
      },
      "outputs": [],
      "source": []
    },
    {
      "cell_type": "markdown",
      "source": [
        "# Python Basic Question"
      ],
      "metadata": {
        "id": "R1KT5fpzHGvp"
      }
    },
    {
      "cell_type": "markdown",
      "source": [
        "1. What is Python, and why is it popular ?\n",
        "  - Python is a programming langauge that is open source and freely available for everyone to use. It s widely used in the industry and easy to underdand. We can easily read and write python because it used english langauge. It has a lots of libraries like numpy, pandas etc. Python is a versatile langauge which used in frontend, backend, database, machine learning and many more.\n",
        "\n",
        "2.  What is an interpreter in Python ?\n",
        "  - An interpreter in python reads and executes code line by line.\n",
        "  It helps translate the code into a form that the computer can understand.\n",
        "\n",
        "3. What are pre-defined keywords in Python?\n",
        "  - Pre-defined keywords are reserved words in Python that have a special meaning. We cannot use these words as identifiers such as if, elif, while , for and many more.\n",
        "\n",
        "4. Can keywords be used as variable names ?\n",
        "  - No keywords can not be used as variable name.\n",
        "\n",
        "5.  What is mutability in Python ?\n",
        "  - Mutabilty means that the value you define or you create can be changed.\n",
        "\n",
        "6.  Why are lists mutable, but tuples are immutable ?\n",
        "  - Lists are mutable because their elements can be changed after the list is created, while tuples are immutable because their elements cannot be changed afte the tuples is created.\n",
        "\n",
        "7. What is the difference between “==” and “is” operators in Python ?\n",
        "  - \"==\" compares the value of two variable.\n",
        "     \"is\" checks that two varibles point to the same memory or not.\n",
        "\n",
        "8. What are logical operators in Python ?\n",
        "  - logical operator are used to combine conditional statement and return the Boolean value.\n",
        "  1. \"and\" - when both condition is True then return True, otherwise return False\n",
        "  2. \"or\" - minimum one condition is True then return True if both the condition is False then return False.\n",
        "  3. \"not\" - reverse the result. if condition True change to False and if condition False change to True.\n",
        "\n",
        "9. What is type casting in Python ?\n",
        "  - Type casting means converting a date type of any value into another data type such as interger to float, integer to string, float to boolean and many more.\n",
        "\n",
        "10. What is the difference between implicit and explicit type casting?\n",
        "  - Implicit type casting means when python automatically understand the data type of any value you do not need to tell them that this is integer or string. Phython automatically does.\n",
        "  Explicit data types means when we manually converts a date type in another date type using function like int, str, bool, float\n",
        "\n",
        "11. What is the purpose of conditional statements in Python?\n",
        "  - Conditional statement in python are used to execute the code based on specific conditions. When any specific condition is True then your block of code will run.\n",
        "\n",
        "12. How does the elif statement work?\n",
        "  - Elif statement is used when we have multiple condition to check. When If condition is false, python moves to the elif condition and when elif condition is true, it executes the code and rest of the elif statements are skipped.\n",
        "\n",
        "13. What is the difference between for and while loops?\n",
        "  - For loop is used for iterating over a suquence of elements and While loop is used for executing a block of code until a speciifed condition is False.\n",
        "\n",
        "14. Describe a scenario where a while loop is more suitable than a for loop?\n",
        "  - A while loop is more suitable when you do not know how many times your loop will run.\n"
      ],
      "metadata": {
        "id": "WWfApDiSI9gk"
      }
    },
    {
      "cell_type": "markdown",
      "source": [
        "# Practical Question"
      ],
      "metadata": {
        "id": "oougKZmPScpq"
      }
    },
    {
      "cell_type": "code",
      "source": [
        "# 1. Write a Python program to print \"Hello, World!.\n",
        "\n",
        "print (\"Hello, World!\")"
      ],
      "metadata": {
        "colab": {
          "base_uri": "https://localhost:8080/"
        },
        "id": "b53mOScjS5u1",
        "outputId": "36f02cb3-fc67-4dd7-fe9a-4f1c098ad543"
      },
      "execution_count": 1,
      "outputs": [
        {
          "output_type": "stream",
          "name": "stdout",
          "text": [
            "Hello, World!\n"
          ]
        }
      ]
    },
    {
      "cell_type": "code",
      "source": [
        "# 2. Write a Python program that displays your name and age.\n",
        "\n",
        "name = \"Aditya\"\n",
        "age = 27\n",
        "\n",
        "print(\"My name is\",name, \"and my age is\",age)"
      ],
      "metadata": {
        "colab": {
          "base_uri": "https://localhost:8080/"
        },
        "id": "K3CR7vKCTP3k",
        "outputId": "70fafad6-e69f-427f-da2f-4ad8adb11593"
      },
      "execution_count": 3,
      "outputs": [
        {
          "output_type": "stream",
          "name": "stdout",
          "text": [
            "My name is Aditya and my age is 27\n"
          ]
        }
      ]
    },
    {
      "cell_type": "code",
      "source": [
        "# 3. Write code to print all the pre-defined keywords in Python using the keyword library.\n",
        "\n",
        "import keyword\n",
        "\n",
        "print(keyword.kwlist)"
      ],
      "metadata": {
        "id": "u7kqLF9tUiL5"
      },
      "execution_count": null,
      "outputs": []
    },
    {
      "cell_type": "code",
      "source": [
        "# 4. Write a program that checks if a given word is a Python keyword.\n",
        "\n",
        "import keyword\n",
        "\n",
        "user = input(\"Enter a word:\")\n",
        "\n",
        "if user in keyword.kwlist:\n",
        "  print(\"It is a keyword\")\n",
        "else:\n",
        "  print(\"It is not a keyword\")"
      ],
      "metadata": {
        "id": "8hXEa7ZEVqb-"
      },
      "execution_count": null,
      "outputs": []
    },
    {
      "cell_type": "code",
      "source": [
        "# 5. Create a list and tuple in Python, and demonstrate how attempting to change an element works differently for each.\n",
        "\n",
        "list1 = [1,2,3,4,5,6]\n",
        "tuple1 = (1,2,3,4,5,6)\n",
        "\n",
        "list1[0] = \"PWSKILLS\"\n",
        "print(list1)\n",
        "\n",
        "tuple1[0] = \"PWSKILLS\"\n",
        "print(tuple1)"
      ],
      "metadata": {
        "id": "QLZxzXkBWBOA"
      },
      "execution_count": null,
      "outputs": []
    },
    {
      "cell_type": "code",
      "source": [
        "# 6. Write a function to demonstrate the behavior of mutable and immutable arguments.\n",
        "\n",
        "list1 = [1,2,3,4,5,6]\n",
        "string1 = \"PWSLILLS\"\n",
        "\n",
        "list1[4] = \"Hello\"\n",
        "print(list1)\n",
        "\n",
        "string1[1] = \"WS\"\n",
        "\n",
        "print(string1)"
      ],
      "metadata": {
        "id": "6S0vbGhwWBLY"
      },
      "execution_count": null,
      "outputs": []
    },
    {
      "cell_type": "code",
      "source": [
        "# 7. Write a program that performs basic arithmetic operations on two user-input numbers.\n",
        "\n",
        "user1 = int(input(\"Enter first number:\"))\n",
        "user2 = int(input(\"Enter second number:\"))\n",
        "\n",
        "sum = user1 + user2\n",
        "\n",
        "print(sum)"
      ],
      "metadata": {
        "id": "Tbw67mxBWBFr"
      },
      "execution_count": null,
      "outputs": []
    },
    {
      "cell_type": "code",
      "source": [
        "# 8. Write a program to demonstrate the use of logical operators.\n",
        "\n",
        "num1 = int(input(\"Enter number1: \"))\n",
        "num2 = int(input(\"Enter number2: \"))\n",
        "\n",
        "if(num1%2==0 and num2%2==0):\n",
        "  print(\"both numbers are even\")\n",
        "elif(num1%2==0 or num2%2==0):\n",
        "  print(\"one number is even\")\n",
        "else:\n",
        "  print(\"both numbers are odd\")\n"
      ],
      "metadata": {
        "id": "msYQRbogWBAW"
      },
      "execution_count": null,
      "outputs": []
    },
    {
      "cell_type": "code",
      "source": [
        "# 9. Write a Python program to convert user input from string to integer, float, and boolean types.\n",
        "\n",
        "user = input(\"Enter a number: \")\n",
        "\n",
        "print(int(user))\n",
        "print(float(user))\n",
        "print(bool(user))"
      ],
      "metadata": {
        "id": "y8Qr4TD_WA33"
      },
      "execution_count": null,
      "outputs": []
    },
    {
      "cell_type": "code",
      "source": [
        "25# 10. Write code to demonstrate type casting with list elements.\n",
        "\n",
        "list1 = [1,2,3,4,5,6]\n",
        "\n",
        "for i in range(0,len(list1)):\n",
        "  list1[i] = float(list1[i])\n",
        "\n",
        "print(list1)\n"
      ],
      "metadata": {
        "colab": {
          "base_uri": "https://localhost:8080/"
        },
        "id": "ilVZUknPWAvS",
        "outputId": "8b4231b6-92af-4e7e-9b16-f151e04c1e20"
      },
      "execution_count": 34,
      "outputs": [
        {
          "output_type": "stream",
          "name": "stdout",
          "text": [
            "[1.0, 2.0, 3.0, 4.0, 5.0, 6.0]\n"
          ]
        }
      ]
    },
    {
      "cell_type": "code",
      "source": [
        "# 11. Write a program that checks if a number is positive, negative, or zero.\n",
        "\n",
        "user = int(input(\"Enter a number:\"))\n",
        "\n",
        "if user > 0:\n",
        "  print(\"Positive\")\n",
        "elif user < 0:\n",
        "  print(\"Negative\")\n",
        "else:\n",
        "  print(\"Zero\")\n",
        "\n"
      ],
      "metadata": {
        "id": "ehFwk24MWAlZ"
      },
      "execution_count": null,
      "outputs": []
    },
    {
      "cell_type": "code",
      "source": [
        "# 12. Write a for loop to print numbers from 1 to 10.\n",
        "\n",
        "for i in range(1,11):\n",
        "  print(i)"
      ],
      "metadata": {
        "id": "_4gnewH1XCl_"
      },
      "execution_count": null,
      "outputs": []
    },
    {
      "cell_type": "code",
      "source": [
        "# 13. Write a Python program to find the sum of all even numbers between 1 and 50.\n",
        "\n",
        "sum = 0\n",
        "\n",
        "for i in range(1,51):\n",
        "  if i % 2 == 0:\n",
        "    print(i)\n",
        "    sum+= i\n",
        "\n",
        "print(sum)"
      ],
      "metadata": {
        "id": "K1qLlc3lXCJu"
      },
      "execution_count": null,
      "outputs": []
    },
    {
      "cell_type": "code",
      "source": [
        "# 14. Write a program to reverse a string using a while loop.\n",
        "\n",
        "user = input(\"Enter a string: \")\n",
        "\n",
        "temp = len(user)-1\n",
        "while(temp>=0):\n",
        "  print(user[temp])\n",
        "  temp = temp - 1\n",
        ""
      ],
      "metadata": {
        "id": "6fZ_LwBCXB_c"
      },
      "execution_count": null,
      "outputs": []
    },
    {
      "cell_type": "code",
      "source": [
        "# 15. Write a Python program to calculate the factorial of a number provided by the user using a while loop\n",
        "\n",
        "user = int(input(\"Enter a number:\"))\n",
        "\n",
        "factorial = 1\n",
        "\n",
        "while(user>1):\n",
        "  factorial = factorial * user\n",
        "  user = user - 1\n",
        "\n",
        "print(factorial)\n"
      ],
      "metadata": {
        "id": "io3SG0QZXBmY"
      },
      "execution_count": null,
      "outputs": []
    },
    {
      "cell_type": "code",
      "source": [],
      "metadata": {
        "id": "Z5hViFjCe4mM"
      },
      "execution_count": 30,
      "outputs": []
    }
  ]
}