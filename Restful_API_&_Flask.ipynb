{
  "nbformat": 4,
  "nbformat_minor": 0,
  "metadata": {
    "colab": {
      "provenance": []
    },
    "kernelspec": {
      "name": "python3",
      "display_name": "Python 3"
    },
    "language_info": {
      "name": "python"
    }
  },
  "cells": [
    {
      "cell_type": "markdown",
      "source": [
        "# Restful API & Flask"
      ],
      "metadata": {
        "id": "wfMiY4smi7ms"
      }
    },
    {
      "cell_type": "markdown",
      "source": [
        "1. What is a RESTful API?\n",
        "  - A RESTful API is an application programming interface that allows the principles of REST (Representation State Transfer). It uses standard HTTP methods like GET, POST, PUT and DELETE to perform operations on resources, which are identified by unique URLs. This return data in formats like JSON or XML,making communication between client and server lightweight and effiicient. RESTful APIs are widely used for building modern web services and applications.\n",
        "\n",
        "2. Explain the concept of API specification.\n",
        " - API stands for application programming interface. API specification is to act as a blueprint so that both developers creating the API and those consuming it have a clear understanding of its functionality. It ensures consistency, reduces miscommunication, and allows for easier testing and integration.\n",
        "\n",
        "3. What is Flask, and why is it popular for building API ?\n",
        "  - Flask is a lightweight and flexible web framework in pyhton that is widely used for building APIs and web application. It is called microframework because it provides only the essential features needed to start. Flask is popular for building APIs because it is simple to learn, easy to use, and highly customizable. Flask has strong community support, detailed documentation and works well with libraries, make it suitable for both small projects and scalable applications.\n",
        "\n",
        "4. What is routing in Flask ?\n",
        "  - In flask, routing refers to the process of mapping a URL to a specific function in the application. When a user visits a particular URL, flask uses the defined route to decide which function should handle that request. Routing is defined using the @app.route() decorator in flask, which makes it easy to bind URL to python function.\n",
        "\n",
        "5. How do you create a simple Flask application?\n",
        "  - A simple flask application is created by first installing flask then writing a small script that defined the app and its routes. You start by importing the Flask class, creating an instance of it, and then defining at least one route using the @app.route() decorator. Inside this route, you write a function that returns a response when that URL is accessed. Finally, you run the application with app.run(), which starts the development server.\n",
        "\n",
        "6. What are HTTP methods used in RESTful APIs?\n",
        "  -  In RESTful APIs, HTTP methods define the type of action a client wants to perform on a resource.\n",
        "\n",
        "    GET: Retrieves data from the server without making changes.\n",
        "\n",
        "    POST: Sends new data to the server to create a resource.\n",
        "\n",
        "    PUT: Updates or replaces an existing resource with new data.\n",
        "\n",
        "    DELETE: Removes a resource from the server.\n",
        "\n",
        "7. What is the purpose of the @app.route() decorator in Flask?\n",
        "  - The @app.route() decorator in flask is used to connect a URL path with a specific function in the application. When a user visits that URL, flask automatically calls the function linked to it and return the response to the browser and client. This decorator makes it easy to define routes without writing extra code for URL handling.\n",
        "\n",
        "8. What is the difference between GET and POST HTTP methods?\n",
        "  - Get is used to retrieve data from the server. The data is sent as part of the URL, which makes it visible in the browser and easy to bookmark or share. Since it appends data to the URL, it is not secure for sensitive information and is limited in the amount of data it can send. POST is used to send data to the server to create or update a resource. The data is included in the request body, not the URL, which makes it more secure for sensitive information like passwords. POST can also handle larger amounts of data, such as form submissions or file uploads.\n",
        "\n",
        "9. How do you handle errors in Flask APIs?\n",
        "  -\n",
        "10. How do you connect Flask to a SQL database?\n",
        "  -\n",
        "  \n",
        "11. What is the role of Flask-SQLAlchemy?\n",
        "  --Flask-SQLAlchemy plays a crucial role in simplifying the integration of databases within Flask applications. It is an extension for Flask that adds support for SQLAlchemy, which is a powerful Object Relational Mapper (ORM) for Python. Instead of writing raw SQL queries, developers can interact with the database using Python objects and methods, making the process easier, safer, and more readable.\n",
        "\n",
        "12. What are Flask blueprints, and how are they useful?\n",
        "  - Flask Blueprints are a powerful feature that allow developers to organize a Flask application into smaller, reusable, and modular components. Instead of keeping all routes, views, and logic in a single large file, blueprints help structure the application into separate modules. This makes the code more organized, easier to maintain, and scalable as the application grows.\n",
        "\n",
        "13. What is the purpose of Flask's request object?\n",
        "  - The request object in flask is used to access data sent by the client to the server during an HTTP request. It provides information about the request, such as the HTTP method, form data, uploaded files etc. The request object allows developers to handle user input, process forms and interact with client and sent data in a structured way.\n",
        "\n",
        "14. How do you create a RESTful API endpoint using Flask?\n",
        "  - To create a RESTful API endpoint in Flask, you define a route using the @app.route() decorator and specify the HTTP method (like GET, POST, PUT, or DELETE) that the endpoint should respond to. Inside the route’s function, you write the logic to handle the request and return a response, usually in JSON format using jsonify(). Creating RESTful endpoints in Flask is simple because it handles routing, request handling, and response formatting easily, making it ideal for building lightweight APIs.\n",
        "\n",
        "15. What is the purpose of Flask's jsonify() function?\n",
        "  - The jsonify() function in flask is used to convert python objects like dictionaries or lists into a JSON response that can be send to the client. Since RESTful APIs often communicate using JSON, jsonify() makes it easy to return data in the correct format with proper headers, ensuring that the client recognizes the response as JSON.\n",
        "\n",
        "16. Explain Flask’s url_for() function?\n",
        "  - Flask’s url_for() function is a built-in utility that helps generate URLs dynamically for routes defined in a Flask application. Instead of hardcoding URLs directly in your templates or Python code, url_for() builds them based on the function name of the route.\n",
        "\n",
        "\n",
        "17. How does Flask handle static files (CSS, JavaScript, etc.)?\n",
        "  - In Flask, static such as CSS, JavaScript, and images are managed through a dedicated folder named static. By default, Flask automatically serves files placed in this folder without requiring explicit routes.  This approach ensures that file paths remain correct even if the application structure changes. Handling static files separately helps in organizing resources efficiently and allows seamless integration of styling, scripts, and media into web pages and templates.\n",
        "\n",
        "18. What is an API specification, and how does it help in building a Flask API?\n",
        "  - An API specification is a detailed document or blueprint that defines how an API should behave, including the available endpoints, the HTTP methods to use, the parameters, the expected request and response formats, and possible error codes. In building a Flask API, an API specification serves as a guide for both developers and clients, ensuring that the API is consistent, predictable, and easy to use. It helps in designing endpoints before implementation, reducing errors, and enabling better collaboration among team members.\n",
        "\n",
        "19. What are HTTP status codes, and why are they important in a Flask API?\n",
        "  - HTTP status code are standarized three digit numbers that indicate the result of a client's request to the server. They tell whether the request was successful, caused an error, or needs further action. In a Flask API, they are important because they help the client understand the outcome of the request without relying only on the response content. For example: 200 means ok - request was successful, 400 bad request - invalid data etc. using these type of status code improves communication, debugging and reliability.\n",
        "\n",
        "\n",
        "20. How do you handle POST requests in Flask ?\n",
        "  - In Flask, POST requests are handled using the @app.route() decorator with the methods=[\"POST\"] argument. POST requests are typically used to send data from the client to the server, such as form submissions or JSON payloads. Inside the route function, the request object is used to access the data sent by the client—request.form for form data, request.json for JSON data, or request.data for raw data. Handling POST requests allows the server to process, store, or respond to the client-provided data, enabling dynamic behavior in web applications and APIs. Proper handling also includes validating input and returning meaningful responses or error codes.\n",
        "\n",
        "21. How would you secure a Flask API?\n",
        "  -\n",
        "\n",
        "22. What is the significance of the Flask-RESTful extension?\n",
        "  -\n",
        "\n",
        "23. What is the role of Flask’s session object?\n",
        "  -"
      ],
      "metadata": {
        "id": "uaid_-9nZK4g"
      }
    },
    {
      "cell_type": "markdown",
      "source": [],
      "metadata": {
        "id": "ac1_5qgri_g0"
      }
    },
    {
      "cell_type": "code",
      "source": [
        "# 1. How do you create a basic Flask application?\n",
        "\n",
        "from flask import Flask\n",
        "\n",
        "app = Flask(__name__)\n",
        "\n",
        "@app.route(\"/\")\n",
        "def homepage():\n",
        "    return \"Hello, Flask! This is my first app.\"\n",
        "\n",
        "if __name__ == \"__main__\":\n",
        "    app.run(debug=True)"
      ],
      "metadata": {
        "id": "SzooLzhS5FlR"
      },
      "execution_count": null,
      "outputs": []
    },
    {
      "cell_type": "code",
      "source": [
        "# 2. How do you serve static files like images or CSS in Flask?"
      ],
      "metadata": {
        "id": "yenW_VrXbHEZ"
      },
      "execution_count": null,
      "outputs": []
    },
    {
      "cell_type": "code",
      "source": [
        "# 3. How do you define different routes with different HTTP methods in Flask?\n",
        "\n",
        "from flask import Flask, request\n",
        "\n",
        "app = Flask(__name__)\n",
        "\n",
        "@app.route(\"/\", methods=[\"GET\"])\n",
        "def homepage():\n",
        "    return \"Hello! This is a GET request.\"\n",
        "\n",
        "\n",
        "@app.route(\"/submit\", methods=[\"POST\"])\n",
        "def submit():\n",
        "    data = request.form.get(\"name\")\n",
        "    return f\"Data received: {data}\"\n",
        "\n",
        "if __name__ == \"__main__\":\n",
        "    app.run(debug=True)\n"
      ],
      "metadata": {
        "id": "9XUy_lfWbHBf"
      },
      "execution_count": null,
      "outputs": []
    },
    {
      "cell_type": "code",
      "source": [
        "# 4. How do you render HTML templates in Flask?\n",
        "\n",
        "from flask import Flask, render_template\n",
        "\n",
        "app = Flask(__name__)\n",
        "\n",
        "@app.route(\"/\")\n",
        "def homepage():\n",
        "    return render_template(\"index.html\")\n",
        "\n",
        "@app.route(\"/about\")\n",
        "def about():\n",
        "    return render_template(\"about.html\")\n",
        "\n",
        "if __name__ == \"__main__\":\n",
        "    app.run(debug=True)\n"
      ],
      "metadata": {
        "id": "jA60ruPrbG-m"
      },
      "execution_count": null,
      "outputs": []
    },
    {
      "cell_type": "code",
      "source": [
        "# 5. How can you generate URLs for routes in Flask using url_for?\n",
        "\n",
        "from flask import Flask, url_for\n",
        "\n",
        "app = Flask(__name__)\n",
        "\n",
        "@app.route(\"/\")\n",
        "def home():\n",
        "    return \"Home Page\"\n",
        "\n",
        "@app.route(\"/profile/<username>\")\n",
        "def profile(username):\n",
        "    return f\"Profile page of {username}\"\n",
        "\n",
        "with app.test_request_context():\n",
        "    print(url_for('home'))\n",
        "    print(url_for('profile', username='Alice'))\n",
        "\n",
        "if __name__ == \"__main__\":\n",
        "    app.run(debug=True)\n"
      ],
      "metadata": {
        "id": "gQMtKweObG7g"
      },
      "execution_count": null,
      "outputs": []
    },
    {
      "cell_type": "code",
      "source": [
        "# 6. How do you handle forms in Flask?\n",
        "\n",
        "from flask import Flask, request, render_template\n",
        "\n",
        "app = Flask(__name__)\n",
        "\n",
        "@app.route(\"/\", methods=[\"GET\", \"POST\"])\n",
        "def form():\n",
        "    message = \"\"\n",
        "    if request.method == \"POST\":\n",
        "        name = request.form.get(\"name\")\n",
        "        message = f\"Hello, {name}!\"\n",
        "    return render_template(\"form.html\", message=message)\n",
        "\n",
        "if __name__ == \"__main__\":\n",
        "    app.run(debug=True)"
      ],
      "metadata": {
        "id": "38iIsooCbG2f"
      },
      "execution_count": null,
      "outputs": []
    },
    {
      "cell_type": "code",
      "source": [
        "# 7. How can you validate form data in Flask?\n",
        "\n",
        "from flask import Flask, request, render_template\n",
        "\n",
        "app = Flask(__name__)\n",
        "\n",
        "\n",
        "@app.route(\"/\", methods=[\"GET\", \"POST\"])\n",
        "def validate():\n",
        "    message = \"\"\n",
        "    if request.method == \"POST\":\n",
        "        age = request.form.get(\"age\")\n",
        "        if age.isdigit() and int(age) > 0:\n",
        "            message = f\"Valid age: {age}\"\n",
        "        else:\n",
        "            message = \"Invalid age! Enter a positive number.\"\n",
        "    return render_template(\"form.html\", message=message)\n",
        "\n",
        "if __name__ == \"__main__\":\n",
        "    app.run(debug=True)\n"
      ],
      "metadata": {
        "id": "wbvqdGJ8bGze"
      },
      "execution_count": null,
      "outputs": []
    },
    {
      "cell_type": "code",
      "source": [
        "# 8. How do you manage sessions in Flask?\n",
        "\n",
        "from flask import Flask, session, redirect, url_for, request\n",
        "\n",
        "app = Flask(__name__)\n",
        "app.secret_key = \"supersecretkey\"\n",
        "\n",
        "@app.route(\"/\")\n",
        "def index():\n",
        "    if \"username\" in session:\n",
        "        return f\"Logged in as {session['username']}\"\n",
        "    return \"You are not logged in\"\n",
        "\n",
        "@app.route(\"/login\", methods=[\"POST\", \"GET\"])\n",
        "def login():\n",
        "    if request.method == \"POST\":\n",
        "        session[\"username\"] = request.form[\"username\"]\n",
        "        return redirect(url_for(\"index\"))\n",
        "    return '''\n",
        "        <form method=\"POST\">\n",
        "            Username: <input type=\"text\" name=\"username\">\n",
        "            <input type=\"submit\">\n",
        "        </form>\n",
        "    '''\n",
        "\n",
        "@app.route(\"/logout\")\n",
        "def logout():\n",
        "    session.pop(\"username\", None)\n",
        "    return redirect(url_for(\"index\"))\n",
        "\n",
        "if __name__ == \"__main__\":\n",
        "    app.run(debug=True)\n"
      ],
      "metadata": {
        "id": "oW2v7-EObGv6"
      },
      "execution_count": null,
      "outputs": []
    },
    {
      "cell_type": "code",
      "source": [
        "# 9. How do you redirect to a different route in Flask?\n",
        "\n",
        "from flask import Flask, redirect, url_for\n",
        "\n",
        "app = Flask(__name__)\n",
        "\n",
        "@app.route(\"/\")\n",
        "def home():\n",
        "    return \"<h1>Welcome to the Home Page</h1>\"\n",
        "\n",
        "@app.route(\"/about\")\n",
        "def about():\n",
        "    return \"<h1>This is the About Page</h1>\"\n",
        "\n",
        "@app.route(\"/go-to-about\")\n",
        "def go_to_about():\n",
        "    return redirect(url_for(\"about\"))\n",
        "\n",
        "if __name__ == \"__main__\":\n",
        "    app.run(debug=True)\n"
      ],
      "metadata": {
        "id": "PJATDsm8bGp5"
      },
      "execution_count": null,
      "outputs": []
    },
    {
      "cell_type": "code",
      "source": [
        "# 10. How do you handle errors in Flask (e.g., 404)?"
      ],
      "metadata": {
        "id": "W4VbY5NxbGb0"
      },
      "execution_count": null,
      "outputs": []
    },
    {
      "cell_type": "code",
      "source": [
        "# 11. How do you structure a Flask app using Blueprints?"
      ],
      "metadata": {
        "id": "gh_H8d7dbzsM"
      },
      "execution_count": null,
      "outputs": []
    },
    {
      "cell_type": "code",
      "source": [
        "# 12. How do you define a custom Jinja filter in Flask?\n",
        "\n",
        "from flask import Flask, render_template\n",
        "\n",
        "app = Flask(__name__)\n",
        "\n",
        "@app.template_filter('capitalize')\n",
        "def capitalize_filter(s):\n",
        "    return s.upper()\n",
        "\n",
        "@app.route(\"/\")\n",
        "def home():\n",
        "    return render_template(\"index.html\", name=\"Adi\")\n",
        "\n",
        "if __name__ == \"__main__\":\n",
        "    app.run(debug=True)\n"
      ],
      "metadata": {
        "id": "q5DKqZI3bzlw"
      },
      "execution_count": null,
      "outputs": []
    },
    {
      "cell_type": "code",
      "source": [
        "# 13. How can you redirect with query parameters in Flask?\n",
        "\n",
        "from flask import Flask, redirect, url_for\n",
        "\n",
        "app = Flask(__name__)\n",
        "\n",
        "@app.route(\"/redirect-example\")\n",
        "def redirect_example():\n",
        "    return redirect(url_for(\"target\", name=\"ADI\", age=25))\n",
        "\n",
        "@app.route(\"/target\")\n",
        "def target():\n",
        "    return \"Redirected with query parameters!\"\n",
        "\n",
        "if __name__ == \"__main__\":\n",
        "    app.run(debug=True)\n"
      ],
      "metadata": {
        "id": "RV2NXY-zbzfN"
      },
      "execution_count": null,
      "outputs": []
    },
    {
      "cell_type": "code",
      "source": [
        "# 14. How do you return JSON responses in Flask?\n",
        "\n",
        "from flask import Flask, jsonify\n",
        "\n",
        "app = Flask(__name__)\n",
        "\n",
        "@app.route(\"/data\")\n",
        "def data():\n",
        "    info = {\n",
        "        \"name\": \"ADI\",\n",
        "        \"age\": 25,\n",
        "        \"city\": \"Delhi\"\n",
        "    }\n",
        "    return jsonify(info)\n",
        "\n",
        "if __name__ == \"__main__\":\n",
        "    app.run(debug=True)\n"
      ],
      "metadata": {
        "id": "MJ1ndo4tbzX0"
      },
      "execution_count": null,
      "outputs": []
    },
    {
      "cell_type": "code",
      "source": [
        "# 15. How do you capture URL parameters in Flask?\n",
        "\n",
        "from flask import Flask\n",
        "\n",
        "app = Flask(__name__)\n",
        "\n",
        "@app.route(\"/home/<name>\")\n",
        "def home(name):\n",
        "    return f\"Hello, {name}!\"\n",
        "\n",
        "if __name__ == \"__main__\":\n",
        "    app.run(debug=True)\n"
      ],
      "metadata": {
        "id": "gZJmUecFb65f"
      },
      "execution_count": null,
      "outputs": []
    }
  ]
}